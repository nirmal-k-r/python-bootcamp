{
 "cells": [
  {
   "cell_type": "code",
   "execution_count": 4,
   "metadata": {},
   "outputs": [
    {
     "name": "stdout",
     "output_type": "stream",
     "text": [
      "Found: John\n",
      "True\n"
     ]
    }
   ],
   "source": [
    "def search(keyword,list):\n",
    "    for name in list:\n",
    "        if name==keyword:\n",
    "            print('Found:',keyword)\n",
    "            return True\n",
    "    return False\n",
    "        \n",
    "names=['John','Paul','George','Ringo']\n",
    "print(search('John',names))"
   ]
  },
  {
   "cell_type": "code",
   "execution_count": 9,
   "metadata": {},
   "outputs": [
    {
     "name": "stdout",
     "output_type": "stream",
     "text": [
      "True\n"
     ]
    }
   ],
   "source": [
    "def search(keyword,list):\n",
    "    return keyword in list\n",
    "\n",
    "names=['John','Paul','George','Ringo']\n",
    "print(search('Paul',names))"
   ]
  },
  {
   "cell_type": "code",
   "execution_count": 11,
   "metadata": {},
   "outputs": [
    {
     "name": "stdout",
     "output_type": "stream",
     "text": [
      "[45.0, 12.5, 33.5, 22.5, 40.0]\n"
     ]
    }
   ],
   "source": [
    "marks=[90,25,67,45,80]\n",
    "\n",
    "i=0\n",
    "for mark in marks:\n",
    "    marks[i]=mark/2\n",
    "    i+=1\n",
    "\n",
    "print(marks)"
   ]
  },
  {
   "cell_type": "code",
   "execution_count": 13,
   "metadata": {},
   "outputs": [
    {
     "name": "stdout",
     "output_type": "stream",
     "text": [
      "[45.0, 12.5, 33.5, 22.5, 40.0]\n"
     ]
    }
   ],
   "source": [
    "def half(mark):\n",
    "    return mark/2\n",
    "\n",
    "marks=[90,25,67,45,80]\n",
    "new_marks=map(half,marks)\n",
    "\n",
    "print(list(new_marks))"
   ]
  },
  {
   "cell_type": "code",
   "execution_count": 21,
   "metadata": {},
   "outputs": [
    {
     "name": "stdout",
     "output_type": "stream",
     "text": [
      "[2, 4, 6, 8]\n"
     ]
    }
   ],
   "source": [
    "numbers=[1,2,3,4,5,6,7,8,9]\n",
    "\n",
    "def even(num):\n",
    "    return num%2==0\n",
    "\n",
    "even_numbers=filter(even,numbers)\n",
    "print(list(even_numbers))\n"
   ]
  },
  {
   "cell_type": "code",
   "execution_count": 22,
   "metadata": {},
   "outputs": [
    {
     "name": "stdout",
     "output_type": "stream",
     "text": [
      "15\n"
     ]
    }
   ],
   "source": [
    "from functools import reduce\n",
    "\n",
    "numbers=[1,2,3,4,5]\n",
    "\n",
    "def add(a,b):\n",
    "    return a+b\n",
    "\n",
    "result=reduce(add,numbers)\n",
    "print(result)"
   ]
  },
  {
   "cell_type": "code",
   "execution_count": 25,
   "metadata": {},
   "outputs": [
    {
     "name": "stdout",
     "output_type": "stream",
     "text": [
      "7\n"
     ]
    }
   ],
   "source": [
    "add= lambda num1,num2: num1+num2\n",
    "\n",
    "result=add(3,4)\n",
    "print(result)\n"
   ]
  }
 ],
 "metadata": {
  "kernelspec": {
   "display_name": "Python 3",
   "language": "python",
   "name": "python3"
  },
  "language_info": {
   "codemirror_mode": {
    "name": "ipython",
    "version": 3
   },
   "file_extension": ".py",
   "mimetype": "text/x-python",
   "name": "python",
   "nbconvert_exporter": "python",
   "pygments_lexer": "ipython3",
   "version": "3.10.2"
  }
 },
 "nbformat": 4,
 "nbformat_minor": 2
}
