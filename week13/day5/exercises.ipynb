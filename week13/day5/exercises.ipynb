{
 "cells": [
  {
   "cell_type": "code",
   "execution_count": 10,
   "metadata": {},
   "outputs": [
    {
     "name": "stdout",
     "output_type": "stream",
     "text": [
      "['without', 'hello', 'bag', 'world']\n",
      "['bag', 'hello', 'without', 'world']\n",
      "bag,hello,without,world\n"
     ]
    }
   ],
   "source": [
    "def process(text):\n",
    "    words=text.split(',')\n",
    "    print(words)\n",
    "\n",
    "    new_list=sorted(words)\n",
    "    print(new_list)\n",
    "\n",
    "    new_text=','.join(new_list)\n",
    "\n",
    "    print(new_text)\n",
    "\n",
    "\n",
    "text=\"without,hello,bag,world\"\n",
    "process(text)"
   ]
  },
  {
   "cell_type": "code",
   "execution_count": 11,
   "metadata": {},
   "outputs": [
    {
     "name": "stdout",
     "output_type": "stream",
     "text": [
      "bag,hello,without,world\n"
     ]
    }
   ],
   "source": [
    "def process(text):\n",
    "    return ','.join(sorted(text.split(',')))\n",
    "\n",
    "\n",
    "text=\"without,hello,bag,world\"\n",
    "result=process(text)\n",
    "print(result)"
   ]
  },
  {
   "cell_type": "code",
   "execution_count": 14,
   "metadata": {},
   "outputs": [
    {
     "name": "stdout",
     "output_type": "stream",
     "text": [
      "['A', \"Margaret's\", 'toy', 'is', 'a', 'pretty', 'doll.']\n",
      "[1, 10, 3, 2, 1, 6, 5]\n",
      "[10, 6, 5, 3, 2, 1, 1]\n",
      "10\n",
      "1\n",
      "Margaret's\n"
     ]
    }
   ],
   "source": [
    "def longest_word(sentence):\n",
    "    words=sentence.split(' ')\n",
    "    print(words)\n",
    "\n",
    "    lengths=list(map(count_characters,words))\n",
    "    print(lengths)\n",
    "\n",
    "    sorted_lengths=sorted(lengths,reverse=True)\n",
    "    print(sorted_lengths)\n",
    "\n",
    "    longest_length=sorted_lengths[0]\n",
    "    print(longest_length)\n",
    "\n",
    "    index_of_longest=lengths.index(longest_length)\n",
    "    print(index_of_longest)\n",
    "\n",
    "    longest_word=words[index_of_longest]\n",
    "    return longest_word\n",
    "\n",
    "\n",
    "def count_characters(word):\n",
    "    return len(word)\n",
    "\n",
    "\n",
    "\n",
    "\n",
    "\n",
    "result=longest_word(\"A Margaret's toy is a pretty doll.\")\n",
    "print(result)\n"
   ]
  },
  {
   "cell_type": "code",
   "execution_count": 17,
   "metadata": {},
   "outputs": [
    {
     "name": "stdout",
     "output_type": "stream",
     "text": [
      "forever.\n"
     ]
    }
   ],
   "source": [
    "def longest_word(sentence):\n",
    "    return sentence.split(' ')[list(map(count_characters,sentence.split(' '))).index(sorted(list(map(count_characters,sentence.split(' '))),reverse=True)[0])]\n",
    " \n",
    "def count_characters(word):\n",
    "    return len(word)\n",
    "\n",
    "result=longest_word(\"A thing of beauty is a joy forever.\")\n",
    "print(result)\n"
   ]
  }
 ],
 "metadata": {
  "kernelspec": {
   "display_name": "Python 3",
   "language": "python",
   "name": "python3"
  },
  "language_info": {
   "codemirror_mode": {
    "name": "ipython",
    "version": 3
   },
   "file_extension": ".py",
   "mimetype": "text/x-python",
   "name": "python",
   "nbconvert_exporter": "python",
   "pygments_lexer": "ipython3",
   "version": "3.10.2"
  }
 },
 "nbformat": 4,
 "nbformat_minor": 2
}
