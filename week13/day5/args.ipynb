{
 "cells": [
  {
   "cell_type": "code",
   "execution_count": 19,
   "metadata": {},
   "outputs": [
    {
     "name": "stdout",
     "output_type": "stream",
     "text": [
      "30\n"
     ]
    }
   ],
   "source": [
    "def addition(num1,num2):\n",
    "    sum=num1+num2\n",
    "    return sum\n",
    "\n",
    "\n",
    "result=addition(10,20)\n",
    "print(result)\n"
   ]
  },
  {
   "cell_type": "code",
   "execution_count": 20,
   "metadata": {},
   "outputs": [
    {
     "name": "stdout",
     "output_type": "stream",
     "text": [
      "60\n"
     ]
    }
   ],
   "source": [
    "def addition(num1,num2,num3):\n",
    "    sum=num1+num2+num3\n",
    "    return sum\n",
    "\n",
    "result=addition(10,20,30)\n",
    "print(result)"
   ]
  },
  {
   "cell_type": "code",
   "execution_count": 21,
   "metadata": {},
   "outputs": [
    {
     "name": "stdout",
     "output_type": "stream",
     "text": [
      "0\n",
      "10\n",
      "30\n",
      "60\n",
      "100\n",
      "150\n"
     ]
    }
   ],
   "source": [
    "def addition(*numbers):\n",
    "\n",
    "    # print(numbers)\n",
    "    sum=0\n",
    "    for num in numbers:\n",
    "        sum+=num\n",
    "    print(sum)\n",
    "\n",
    "addition()\n",
    "addition(10)\n",
    "addition(10,20)\n",
    "addition(10,20,30)\n",
    "addition(10,20,30,40)\n",
    "addition(10,20,30,40,50)"
   ]
  },
  {
   "cell_type": "code",
   "execution_count": 22,
   "metadata": {},
   "outputs": [
    {
     "name": "stdout",
     "output_type": "stream",
     "text": [
      "0 : ram\n",
      "1 : paul\n",
      "2 : pierre\n",
      "3 : rita\n",
      "4 : sita\n",
      "5 : gita\n"
     ]
    }
   ],
   "source": [
    "def attendance(*students):\n",
    "    for i,student in enumerate(students):\n",
    "        print(f'{i} : {student}')\n",
    "\n",
    "# attendance('ram','paul','pierre')\n",
    "attendance('ram','paul','pierre','rita','sita','gita')"
   ]
  },
  {
   "cell_type": "code",
   "execution_count": 23,
   "metadata": {},
   "outputs": [
    {
     "name": "stdout",
     "output_type": "stream",
     "text": [
      "[80.0, ['english', 'maths', 'science']]\n",
      "[75.0, ['chinese', 'history']]\n"
     ]
    }
   ],
   "source": [
    "def marks(**subjects):\n",
    "    total=0\n",
    "    subject=[]\n",
    "    for key,value in subjects.items():\n",
    "        total=total+value\n",
    "        subject.append(key)\n",
    "    \n",
    "    avg=total/len(subjects)\n",
    "\n",
    "    return [avg,subject]\n",
    "\n",
    "\n",
    "tom=marks(english=90,maths=80,science=70)\n",
    "print(tom)\n",
    "\n",
    "rita=marks(chinese=60,history=90)\n",
    "print(rita)\n"
   ]
  },
  {
   "cell_type": "code",
   "execution_count": null,
   "metadata": {},
   "outputs": [],
   "source": []
  }
 ],
 "metadata": {
  "kernelspec": {
   "display_name": "Python 3",
   "language": "python",
   "name": "python3"
  },
  "language_info": {
   "codemirror_mode": {
    "name": "ipython",
    "version": 3
   },
   "file_extension": ".py",
   "mimetype": "text/x-python",
   "name": "python",
   "nbconvert_exporter": "python",
   "pygments_lexer": "ipython3",
   "version": "3.10.2"
  }
 },
 "nbformat": 4,
 "nbformat_minor": 2
}
