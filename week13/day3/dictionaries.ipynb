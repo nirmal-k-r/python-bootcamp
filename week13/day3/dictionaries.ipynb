{
 "cells": [
  {
   "cell_type": "code",
   "execution_count": 17,
   "metadata": {},
   "outputs": [
    {
     "name": "stdout",
     "output_type": "stream",
     "text": [
      "{'name': 'John', 'age': 30, 'married': True}\n",
      "John\n",
      "30\n",
      "True\n"
     ]
    }
   ],
   "source": [
    "# declaring a dictionary\n",
    "person={\n",
    "    'name':\"John\",\n",
    "    'age':30,\n",
    "    'married':True\n",
    "}\n",
    "\n",
    "print(person)\n",
    "\n",
    "print(person['name'])\n",
    "print(person['age'])\n",
    "print(person['married'])"
   ]
  },
  {
   "cell_type": "code",
   "execution_count": 18,
   "metadata": {},
   "outputs": [
    {
     "name": "stdout",
     "output_type": "stream",
     "text": [
      "{'name': \"St. Mary's\", 'location': 'Nairobi', 'students': 500}\n",
      "{'name': \"St. Mary's\", 'location': 'Nairobi', 'students': 500, 'status': 'private'}\n"
     ]
    }
   ],
   "source": [
    "#writing to a dictionary\n",
    "\n",
    "school={}\n",
    "\n",
    "school['name']=\"St. Mary's\"\n",
    "school['location']=\"Nairobi\"\n",
    "school['students']=500\n",
    "\n",
    "print(school)\n",
    "\n",
    "#updating a dictionary\n",
    "school['status']=\"private\"\n",
    "print(school)\n"
   ]
  },
  {
   "cell_type": "code",
   "execution_count": 19,
   "metadata": {},
   "outputs": [
    {
     "name": "stdout",
     "output_type": "stream",
     "text": [
      "John\n",
      "Jane\n",
      "Doe\n",
      "Mary\n"
     ]
    }
   ],
   "source": [
    "#iterating over a standard list\n",
    "names=[\"John\",\"Jane\",\"Doe\",\"Mary\"]\n",
    "\n",
    "for name in names:\n",
    "    print(name)"
   ]
  },
  {
   "cell_type": "code",
   "execution_count": 20,
   "metadata": {},
   "outputs": [
    {
     "name": "stdout",
     "output_type": "stream",
     "text": [
      "name John\n",
      "age 30\n",
      "married True\n"
     ]
    }
   ],
   "source": [
    "person={\n",
    "    'name':\"John\",\n",
    "    'age':30,\n",
    "    'married':True\n",
    "}\n",
    "\n",
    "#iterating over a dictionary\n",
    "for key in person:\n",
    "    print(key,person[key])\n"
   ]
  },
  {
   "cell_type": "code",
   "execution_count": 24,
   "metadata": {},
   "outputs": [
    {
     "name": "stdout",
     "output_type": "stream",
     "text": [
      "dict_keys(['name', 'age', 'married'])\n",
      "dict_values(['John', 30, True])\n",
      "dict_items([('name', 'John'), ('age', 30), ('married', True)])\n",
      "name John\n",
      "age 30\n",
      "married True\n"
     ]
    }
   ],
   "source": [
    "#unpacking a dictionary\n",
    "person={\n",
    "    'name':\"John\",\n",
    "    'age':30,\n",
    "    'married':True\n",
    "}\n",
    "\n",
    "print(person.keys())\n",
    "print(person.values())\n",
    "print(person.items())\n",
    "\n",
    "\n",
    "for key,value in person.items():\n",
    "    print(key,value)"
   ]
  },
  {
   "cell_type": "code",
   "execution_count": 28,
   "metadata": {},
   "outputs": [
    {
     "name": "stdout",
     "output_type": "stream",
     "text": [
      "80\n",
      "{'name': 'John', 'age': 30, 'marks': {'math': 90, 'english': 80, 'french': 70, 'chinese': 60}, 'favorite_colors': ['red', 'blue', 'green', 'yellow']}\n"
     ]
    }
   ],
   "source": [
    "#nested dictionaries\n",
    "student={\n",
    "    'name':\"John\",\n",
    "    'age':30,\n",
    "    'marks':{\n",
    "        'math':90,\n",
    "        'english':80,\n",
    "        'french':70\n",
    "    },\n",
    "    'favorite_colors':[\"red\",\"blue\",\"green\"]\n",
    "}\n",
    "\n",
    "print(student['marks']['english'])\n",
    "\n",
    "student['marks']['chinese']=60\n",
    "\n",
    "student['favorite_colors'].append(\"yellow\")\n",
    "\n",
    "print(student)"
   ]
  },
  {
   "cell_type": "code",
   "execution_count": 29,
   "metadata": {},
   "outputs": [
    {
     "name": "stdout",
     "output_type": "stream",
     "text": [
      "[{'name': 'John', 'age': 30}, {'name': 'Jane', 'age': 25}, {'name': 'Doe', 'age': 35}]\n"
     ]
    }
   ],
   "source": [
    "students=[\n",
    "    {\n",
    "        'name':\"John\",\n",
    "        'age':30,\n",
    "    },\n",
    "    {\n",
    "        'name':\"Jane\",\n",
    "        'age':25\n",
    "    },\n",
    "    {\n",
    "        'name':\"Doe\",\n",
    "        'age':35\n",
    "    }\n",
    "]\n",
    "\n",
    "print(students)"
   ]
  },
  {
   "cell_type": "code",
   "execution_count": 31,
   "metadata": {},
   "outputs": [
    {
     "name": "stdout",
     "output_type": "stream",
     "text": [
      "80\n",
      "{'class': {'student': {'name': 'Tom', 'marks': {'physics': 70, 'history': 80}}}}\n"
     ]
    }
   ],
   "source": [
    "sample_dict = { \n",
    "   \"class\":{ \n",
    "      \"student\":{ \n",
    "         \"name\":\"Mike\",\n",
    "         \"marks\":{ \n",
    "            \"physics\":70,\n",
    "            \"history\":80\n",
    "         }\n",
    "      }\n",
    "   }\n",
    "}\n",
    "\n",
    "print(sample_dict['class']['student']['marks']['history'])\n",
    "\n",
    "\n",
    "sample_dict['class']['student']['name']='Tom'\n",
    "print(sample_dict)"
   ]
  },
  {
   "cell_type": "code",
   "execution_count": 34,
   "metadata": {},
   "outputs": [
    {
     "name": "stdout",
     "output_type": "stream",
     "text": [
      "Not found\n"
     ]
    }
   ],
   "source": [
    "names=[\"John\",\"Jane\",\"Doe\",\"Mary\"]\n",
    "\n",
    "if 'Tom' in names:\n",
    "    print(\"Found\")\n",
    "else:\n",
    "    print(\"Not found\")"
   ]
  },
  {
   "cell_type": "code",
   "execution_count": 37,
   "metadata": {},
   "outputs": [
    {
     "name": "stdout",
     "output_type": "stream",
     "text": [
      "Found\n"
     ]
    }
   ],
   "source": [
    "#searching keys\n",
    "person={\n",
    "    'name':\"John\",\n",
    "    'age':30,\n",
    "    'married':True\n",
    "}\n",
    "\n",
    "if 'age' in person:\n",
    "    print(\"Found\")\n",
    "else:\n",
    "    print(\"Not found\")"
   ]
  }
 ],
 "metadata": {
  "kernelspec": {
   "display_name": "Python 3",
   "language": "python",
   "name": "python3"
  },
  "language_info": {
   "codemirror_mode": {
    "name": "ipython",
    "version": 3
   },
   "file_extension": ".py",
   "mimetype": "text/x-python",
   "name": "python",
   "nbconvert_exporter": "python",
   "pygments_lexer": "ipython3",
   "version": "3.10.2"
  }
 },
 "nbformat": 4,
 "nbformat_minor": 2
}
