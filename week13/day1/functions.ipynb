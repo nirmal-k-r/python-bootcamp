{
 "cells": [
  {
   "cell_type": "code",
   "execution_count": 5,
   "metadata": {},
   "outputs": [],
   "source": [
    "#function definition\n",
    "def hello():\n",
    "    print(\"Hello World\")\n"
   ]
  },
  {
   "cell_type": "code",
   "execution_count": 7,
   "metadata": {},
   "outputs": [
    {
     "name": "stdout",
     "output_type": "stream",
     "text": [
      "Hello World\n"
     ]
    }
   ],
   "source": [
    "#function call\n",
    "hello()"
   ]
  },
  {
   "cell_type": "code",
   "execution_count": 8,
   "metadata": {},
   "outputs": [
    {
     "name": "stdout",
     "output_type": "stream",
     "text": [
      "Hi there\n",
      "how are you?\n"
     ]
    }
   ],
   "source": [
    "def greet():  #function definition\n",
    "    print(\"Hi there\")\n",
    "    print('how are you?')wx\n",
    "\n",
    "greet() #function call\n"
   ]
  },
  {
   "cell_type": "code",
   "execution_count": 12,
   "metadata": {},
   "outputs": [
    {
     "name": "stdout",
     "output_type": "stream",
     "text": [
      "Hello World\n",
      "Hello World\n",
      "Hello World\n",
      "Hello World\n",
      "Hello World\n"
     ]
    }
   ],
   "source": [
    "def helloWorld():\n",
    "    print(\"Hello World\")\n",
    "\n",
    "\n",
    "for i in range(5):\n",
    "    helloWorld()"
   ]
  },
  {
   "cell_type": "code",
   "execution_count": 15,
   "metadata": {},
   "outputs": [
    {
     "name": "stdout",
     "output_type": "stream",
     "text": [
      "11\n"
     ]
    }
   ],
   "source": [
    "def add(number1,number2):\n",
    "    print(number1+number2)\n",
    "\n",
    "num1=5\n",
    "num2=6\n",
    "add(num1,num2)"
   ]
  },
  {
   "cell_type": "code",
   "execution_count": 17,
   "metadata": {},
   "outputs": [
    {
     "name": "stdout",
     "output_type": "stream",
     "text": [
      "Hello  Nirmal\n",
      "Hello  Rahul\n",
      "Hello  Rohit\n"
     ]
    }
   ],
   "source": [
    "def greetings(name):\n",
    "    print(\"Hello \",name)\n",
    "\n",
    "greetings('Nirmal')\n",
    "greetings('Rahul')\n",
    "greetings('Rohit')"
   ]
  },
  {
   "cell_type": "code",
   "execution_count": 18,
   "metadata": {},
   "outputs": [
    {
     "name": "stdout",
     "output_type": "stream",
     "text": [
      "Hello  paul\n",
      "Hello  john\n",
      "Hello  george\n",
      "Hello  ringo\n"
     ]
    }
   ],
   "source": [
    "def greetEveryone(names):\n",
    "    for name in names:\n",
    "        print(\"Hello \",name)\n",
    "\n",
    "names=['paul','john','george','ringo']\n",
    "greetEveryone(names)"
   ]
  },
  {
   "cell_type": "code",
   "execution_count": 23,
   "metadata": {},
   "outputs": [
    {
     "name": "stdout",
     "output_type": "stream",
     "text": [
      "Nirmal is 26 years old\n",
      "Paul is 11 years old\n"
     ]
    }
   ],
   "source": [
    "def info(name,age):\n",
    "    age=age+1\n",
    "    print(f'{name} is {age} years old')\n",
    "\n",
    "info('Nirmal',25)\n",
    "\n",
    "info(age=10,name='Paul')"
   ]
  },
  {
   "cell_type": "code",
   "execution_count": 24,
   "metadata": {},
   "outputs": [
    {
     "name": "stdout",
     "output_type": "stream",
     "text": [
      "Paul is 25 years old and married is True\n",
      "John is 30 years old and married is False\n",
      "George is 35 years old and married is True\n",
      "Ringo is 40 years old and married is False\n"
     ]
    }
   ],
   "source": [
    "def record(name,age,married=False):\n",
    "    print(f'{name} is {age} years old and married is {married}')\n",
    "\n",
    "record('Paul',25,True)\n",
    "record('John',30)\n",
    "record('George',35,True)\n",
    "record('Ringo',40)\n"
   ]
  },
  {
   "cell_type": "code",
   "execution_count": 25,
   "metadata": {},
   "outputs": [
    {
     "name": "stdout",
     "output_type": "stream",
     "text": [
      "10\n",
      "14\n"
     ]
    }
   ],
   "source": [
    "def localfunction():\n",
    "    a=10 #local variable\n",
    "    print(a)\n",
    "\n",
    "#global context\n",
    "a=14 #global variable\n",
    "localfunction()\n",
    "print(a)"
   ]
  },
  {
   "cell_type": "code",
   "execution_count": 2,
   "metadata": {},
   "outputs": [
    {
     "name": "stdout",
     "output_type": "stream",
     "text": [
      "24\n",
      "24\n"
     ]
    }
   ],
   "source": [
    "def localfunction():\n",
    "    global a\n",
    "    a=a+10\n",
    "    print(a)\n",
    "\n",
    "a=14 #global variable\n",
    "\n",
    "localfunction()\n",
    "print(a)"
   ]
  },
  {
   "cell_type": "code",
   "execution_count": 3,
   "metadata": {},
   "outputs": [
    {
     "name": "stdout",
     "output_type": "stream",
     "text": [
      "11\n"
     ]
    }
   ],
   "source": [
    "#returning value from function\n",
    "def add(num1,num2):\n",
    "    return num1+num2\n",
    "\n",
    "total=add(5,6)\n",
    "print(total)"
   ]
  },
  {
   "cell_type": "code",
   "execution_count": 4,
   "metadata": {},
   "outputs": [
    {
     "name": "stdout",
     "output_type": "stream",
     "text": [
      "11\n",
      "5.5\n"
     ]
    }
   ],
   "source": [
    "def process(num1,num2):\n",
    "    total=num1+num2\n",
    "    avg=total/2\n",
    "    return total,avg\n",
    "\n",
    "total,average=process(5,6)\n",
    "print(total)\n",
    "print(average)\n"
   ]
  },
  {
   "cell_type": "code",
   "execution_count": 9,
   "metadata": {},
   "outputs": [
    {
     "name": "stdout",
     "output_type": "stream",
     "text": [
      "[11, 5.5]\n"
     ]
    }
   ],
   "source": [
    "def process(num1,num2):\n",
    "    total=num1+num2\n",
    "    avg=total/2\n",
    "    return [total,avg]\n",
    "\n",
    "results=process(5,6)\n",
    "print(results)"
   ]
  },
  {
   "cell_type": "code",
   "execution_count": 10,
   "metadata": {},
   "outputs": [
    {
     "name": "stdout",
     "output_type": "stream",
     "text": [
      "15\n",
      "5\n"
     ]
    }
   ],
   "source": [
    "def process(number):\n",
    "    number=number+10\n",
    "    print(number)\n",
    "\n",
    "number=5\n",
    "process(number)\n",
    "print(number)\n"
   ]
  },
  {
   "cell_type": "code",
   "execution_count": 12,
   "metadata": {},
   "outputs": [
    {
     "name": "stdout",
     "output_type": "stream",
     "text": [
      "[100, 200]\n"
     ]
    }
   ],
   "source": [
    "def processNums(nums):\n",
    "    nums[0]=100\n",
    "    nums[1]=200\n",
    "\n",
    "\n",
    "numbers=[5,10]\n",
    "processNums(numbers)\n",
    "print(numbers)"
   ]
  },
  {
   "cell_type": "code",
   "execution_count": 14,
   "metadata": {},
   "outputs": [
    {
     "name": "stdout",
     "output_type": "stream",
     "text": [
      "['paul', 'john', 'george', 'pete']\n"
     ]
    }
   ],
   "source": [
    "names=['paul','john','george','ringo']\n",
    "\n",
    "def update(names):\n",
    "    names.pop()\n",
    "    names.append('pete')\n",
    "\n",
    "update(names)\n",
    "print(names)"
   ]
  },
  {
   "cell_type": "code",
   "execution_count": 2,
   "metadata": {},
   "outputs": [
    {
     "name": "stdout",
     "output_type": "stream",
     "text": [
      "Hello world\n"
     ]
    }
   ],
   "source": [
    "def display(text):\n",
    "    process(text)\n",
    "\n",
    "def process(text):\n",
    "    new_text=text.upper()\n",
    "    print(new_text)\n",
    "\n",
    "\n",
    "display('Hello world')"
   ]
  },
  {
   "cell_type": "code",
   "execution_count": 6,
   "metadata": {},
   "outputs": [
    {
     "name": "stdout",
     "output_type": "stream",
     "text": [
      "11\n",
      "5\n",
      "15\n"
     ]
    }
   ],
   "source": [
    "def calculator(num1,num2, operation):\n",
    "    def addition(num1,num2):\n",
    "        return num1+num2\n",
    "\n",
    "    def subtraction(num1,num2):\n",
    "        return num1-num2\n",
    "\n",
    "    if operation==\"+\":\n",
    "        print(addition(num1,num2))\n",
    "    elif operation==\"-\":\n",
    "        print(subtraction(num1,num2))\n",
    "\n",
    "\n",
    "def addition(num1,num2):\n",
    "    return num1+num2\n",
    "\n",
    "\n",
    "\n",
    "calculator(5,6,'+')\n",
    "calculator(10,5,'-')\n",
    "\n",
    "\n",
    "print(addition(10,5))\n"
   ]
  }
 ],
 "metadata": {
  "kernelspec": {
   "display_name": "Python 3",
   "language": "python",
   "name": "python3"
  },
  "language_info": {
   "codemirror_mode": {
    "name": "ipython",
    "version": 3
   },
   "file_extension": ".py",
   "mimetype": "text/x-python",
   "name": "python",
   "nbconvert_exporter": "python",
   "pygments_lexer": "ipython3",
   "version": "3.10.2"
  }
 },
 "nbformat": 4,
 "nbformat_minor": 2
}
