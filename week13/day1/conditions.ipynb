{
 "cells": [
  {
   "cell_type": "code",
   "execution_count": 3,
   "metadata": {},
   "outputs": [
    {
     "name": "stdout",
     "output_type": "stream",
     "text": [
      "It's hot\n",
      "hello word\n",
      "The price is 100\n"
     ]
    }
   ],
   "source": [
    "temp=30\n",
    "\n",
    "if (temp>20):\n",
    "    print(\"It's hot\")\n",
    "    print('hello word')\n",
    "else:\n",
    "    print(\"It's cold\")\n",
    "\n",
    "price=100\n",
    "\n",
    "if price==100:\n",
    "    print(\"The price is 100\")\n"
   ]
  },
  {
   "cell_type": "code",
   "execution_count": 7,
   "metadata": {},
   "outputs": [
    {
     "name": "stdout",
     "output_type": "stream",
     "text": [
      "It's cold\n",
      "It's hot\n"
     ]
    }
   ],
   "source": [
    "temp=21\n",
    "humidity=40\n",
    "\n",
    "if temp>20 and humidity>40:\n",
    "    print(\"It's hot\")\n",
    "else:\n",
    "    print(\"It's cold\")\n",
    "\n",
    "if temp>20 or humidity>40:\n",
    "    print(\"It's hot\")\n",
    "else:\n",
    "    print(\"It's cold\")"
   ]
  },
  {
   "cell_type": "code",
   "execution_count": 9,
   "metadata": {},
   "outputs": [
    {
     "name": "stdout",
     "output_type": "stream",
     "text": [
      "Married\n"
     ]
    }
   ],
   "source": [
    "married=True\n",
    "\n",
    "if not married:\n",
    "    print(\"Not married\")\n",
    "else:\n",
    "    print(\"Married\")"
   ]
  }
 ],
 "metadata": {
  "kernelspec": {
   "display_name": "Python 3",
   "language": "python",
   "name": "python3"
  },
  "language_info": {
   "codemirror_mode": {
    "name": "ipython",
    "version": 3
   },
   "file_extension": ".py",
   "mimetype": "text/x-python",
   "name": "python",
   "nbconvert_exporter": "python",
   "pygments_lexer": "ipython3",
   "version": "3.10.2"
  }
 },
 "nbformat": 4,
 "nbformat_minor": 2
}
