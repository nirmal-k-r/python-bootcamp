{
 "cells": [
  {
   "cell_type": "code",
   "execution_count": 1,
   "metadata": {},
   "outputs": [
    {
     "name": "stdout",
     "output_type": "stream",
     "text": [
      "J\n",
      "a\n",
      "c\n",
      "k\n"
     ]
    }
   ],
   "source": [
    "name='Jack'\n",
    "print(name[0])\n",
    "print(name[1])\n",
    "print(name[2])\n",
    "print(name[3])\n"
   ]
  },
  {
   "cell_type": "code",
   "execution_count": 5,
   "metadata": {},
   "outputs": [
    {
     "name": "stdout",
     "output_type": "stream",
     "text": [
      "['Jack', 'Tom', 'Rose']\n",
      "Jack\n",
      "Tom\n",
      "Rose\n",
      "Tom\n"
     ]
    }
   ],
   "source": [
    "#lists\n",
    "names=[] #empty list\n",
    "names=['Jack','Tom','Rose']\n",
    "print(names)\n",
    "\n",
    "\n",
    "#access list elements\n",
    "print(names[0])\n",
    "print(names[1])\n",
    "print(names[2])\n",
    "\n",
    "print(names[-2]) #circular access\n"
   ]
  },
  {
   "cell_type": "code",
   "execution_count": 6,
   "metadata": {},
   "outputs": [
    {
     "name": "stdout",
     "output_type": "stream",
     "text": [
      "[20, 30, 40, 50]\n"
     ]
    }
   ],
   "source": [
    "#append to list\n",
    "ages=[20,30,40]\n",
    "ages.append(50)\n",
    "print(ages)"
   ]
  },
  {
   "cell_type": "code",
   "execution_count": 10,
   "metadata": {},
   "outputs": [
    {
     "name": "stdout",
     "output_type": "stream",
     "text": [
      "['Jack', 'Rose']\n",
      "['Jack']\n",
      "[30, 40]\n"
     ]
    }
   ],
   "source": [
    "names=['Jack','Tom','Rose']\n",
    "names.remove('Tom')\n",
    "print(names)\n",
    "\n",
    "names.pop()\n",
    "print(names)\n",
    "\n",
    "ages=[20,30,40]\n",
    "del ages[0]\n",
    "print(ages)"
   ]
  },
  {
   "cell_type": "code",
   "execution_count": 11,
   "metadata": {},
   "outputs": [
    {
     "name": "stdout",
     "output_type": "stream",
     "text": [
      "['John', 'Tom', 'Rose']\n"
     ]
    }
   ],
   "source": [
    "names=['Jack','Tom','Rose']\n",
    "names[0]='John'\n",
    "print(names)"
   ]
  },
  {
   "cell_type": "code",
   "execution_count": 14,
   "metadata": {},
   "outputs": [
    {
     "name": "stdout",
     "output_type": "stream",
     "text": [
      "('Jack', 'Tom', 'Rose')\n",
      "Jack\n"
     ]
    }
   ],
   "source": [
    "#tuples\n",
    "names=('Jack','Tom','Rose')\n",
    "print(names)\n",
    "\n",
    "print(names[0])\n",
    "\n",
    "# names[0]='pierre'\n",
    "# print(names)"
   ]
  },
  {
   "cell_type": "code",
   "execution_count": 18,
   "metadata": {},
   "outputs": [
    {
     "name": "stdout",
     "output_type": "stream",
     "text": [
      "{1, 2, 3, 4, 5}\n",
      "{1, 2, 3, 4, 5, 6}\n",
      "{1, 2, 3, 4, 5}\n",
      "{1, 2, 3, 4, 5}\n"
     ]
    }
   ],
   "source": [
    "my_set={1,2,3,4,5}\n",
    "\n",
    "print(my_set)\n",
    "\n",
    "my_set.add(6)\n",
    "print(my_set)\n",
    "\n",
    "my_set.remove(6)\n",
    "print(my_set)\n",
    "\n",
    "a={1,2,3}\n",
    "b={3,4,5}\n",
    "c=a.union(b)\n",
    "\n",
    "print(c)"
   ]
  },
  {
   "cell_type": "code",
   "execution_count": 21,
   "metadata": {},
   "outputs": [
    {
     "name": "stdout",
     "output_type": "stream",
     "text": [
      "{1, 2, 3, 4}\n",
      "{2, 3}\n"
     ]
    }
   ],
   "source": [
    "x={1,2,3}\n",
    "y={2,3,4}\n",
    "\n",
    "z=x.union(y)\n",
    "print(z)\n",
    "\n",
    "print(x.intersection(y))"
   ]
  },
  {
   "cell_type": "code",
   "execution_count": 22,
   "metadata": {},
   "outputs": [
    {
     "name": "stdout",
     "output_type": "stream",
     "text": [
      "['Jack', 'Rose', 'Tom']\n"
     ]
    }
   ],
   "source": [
    "names=['Jack','Tom','Rose']\n",
    "sorted_names=sorted(names)\n",
    "print(sorted_names)\n"
   ]
  },
  {
   "cell_type": "code",
   "execution_count": 4,
   "metadata": {},
   "outputs": [
    {
     "name": "stdout",
     "output_type": "stream",
     "text": [
      "('Jack', 20)\n",
      "('Tom', 30)\n",
      "('Rose', 40)\n",
      "20 Jack\n",
      "30 Tom\n",
      "40 Rose\n"
     ]
    }
   ],
   "source": [
    "names=['Jack','Tom','Rose']\n",
    "ages=[20,30,40]\n",
    "\n",
    "new=zip(names,ages)\n",
    "\n",
    "for item in zip(names,ages):\n",
    "    print(item)\n",
    "\n",
    "for name,age in zip(names,ages):\n",
    "    print(age,name)\n"
   ]
  },
  {
   "cell_type": "code",
   "execution_count": 7,
   "metadata": {},
   "outputs": [
    {
     "name": "stdout",
     "output_type": "stream",
     "text": [
      "Jack\n",
      "Tom\n",
      "Rose\n",
      "no more items\n"
     ]
    }
   ],
   "source": [
    "names=['Jack','Tom','Rose']\n",
    "\n",
    "for name in names:\n",
    "    print(name)\n",
    "else:\n",
    "    print('no more items')"
   ]
  },
  {
   "cell_type": "code",
   "execution_count": 13,
   "metadata": {},
   "outputs": [
    {
     "name": "stdout",
     "output_type": "stream",
     "text": [
      "['JACK', 'TOM', 'ROSE']\n"
     ]
    }
   ],
   "source": [
    "names=['Jack','Tom','Rose']\n",
    "\n",
    "\n",
    "capital_names=[name.upper() for name in names]\n",
    "print(capital_names)"
   ]
  },
  {
   "cell_type": "code",
   "execution_count": 17,
   "metadata": {},
   "outputs": [
    {
     "name": "stdout",
     "output_type": "stream",
     "text": [
      "[1, 9, 25, 49, 81]\n"
     ]
    }
   ],
   "source": [
    "import math\n",
    "# squared_odds=[math.pow(num,2) for num in range(1,10,2)]\n",
    "squared_odds=[num**2 for num in range(1,10,2)]\n",
    "print(squared_odds)"
   ]
  }
 ],
 "metadata": {
  "kernelspec": {
   "display_name": "Python 3",
   "language": "python",
   "name": "python3"
  },
  "language_info": {
   "codemirror_mode": {
    "name": "ipython",
    "version": 3
   },
   "file_extension": ".py",
   "mimetype": "text/x-python",
   "name": "python",
   "nbconvert_exporter": "python",
   "pygments_lexer": "ipython3",
   "version": "3.10.2"
  }
 },
 "nbformat": 4,
 "nbformat_minor": 2
}
