{
 "cells": [
  {
   "cell_type": "code",
   "execution_count": 34,
   "metadata": {},
   "outputs": [
    {
     "name": "stdout",
     "output_type": "stream",
     "text": [
      "helloworld\n"
     ]
    }
   ],
   "source": [
    "print('helloworld')"
   ]
  },
  {
   "cell_type": "code",
   "execution_count": 35,
   "metadata": {},
   "outputs": [],
   "source": [
    "# variables\n",
    "a=5\n",
    "a='test'\n",
    "\n",
    "name='John'\n",
    "name2='Paul'\n",
    "# 2name='Paul' # error\n",
    "name_3='Tom'\n",
    "\n",
    "full_name='Tom Smith'\n",
    "fullName='John Doe'\n"
   ]
  },
  {
   "cell_type": "code",
   "execution_count": 36,
   "metadata": {},
   "outputs": [
    {
     "name": "stdout",
     "output_type": "stream",
     "text": [
      "<class 'bool'>\n"
     ]
    }
   ],
   "source": [
    "\n",
    "\n",
    "#number - consists of integers and floats\n",
    "x=0\n",
    "x=-1000\n",
    "x=10000000\n",
    "x=13.4567\n",
    "\n",
    "#string\n",
    "name='John'\n",
    "character='x'\n",
    "sentence='This is a sentence'\n",
    "\n",
    "#boolean\n",
    "married=True\n",
    "married=False \n",
    "\n",
    "\n",
    "# print(married)\n",
    "\n",
    "\n",
    "print(type(married))"
   ]
  },
  {
   "cell_type": "code",
   "execution_count": 37,
   "metadata": {},
   "outputs": [
    {
     "name": "stdout",
     "output_type": "stream",
     "text": [
      "13\n",
      "7\n",
      "30\n",
      "3.3333333333333335\n",
      "3\n",
      "1\n",
      "9.5\n"
     ]
    }
   ],
   "source": [
    "#operators\n",
    "num1=10\n",
    "num2=3\n",
    "\n",
    "print(num1+num2)\n",
    "print(num1-num2)\n",
    "print(num1*num2)\n",
    "print(num1/num2)\n",
    "print(num1//num2)\n",
    "print(num1%num2)\n",
    "\n",
    "#bodmas applies in python\n",
    "result=10-(5*2)/4+2\n",
    "print(result)"
   ]
  },
  {
   "cell_type": "code",
   "execution_count": 42,
   "metadata": {},
   "outputs": [
    {
     "name": "stdout",
     "output_type": "stream",
     "text": [
      "John Doe\n",
      "test2\n",
      "10\n",
      "hellohellohellohellohello\n"
     ]
    }
   ],
   "source": [
    "#operations\n",
    "\n",
    "first_name='John'\n",
    "last_name='Doe'\n",
    "\n",
    "full_name=first_name+' '+last_name\n",
    "print(full_name)\n",
    "\n",
    "a='test'\n",
    "b=2\n",
    "print(a+str(b))\n",
    "\n",
    "number='5'\n",
    "print(int(number)+5)\n",
    "\n",
    "\n",
    "text='hello'\n",
    "print(text*5)\n"
   ]
  },
  {
   "cell_type": "code",
   "execution_count": 39,
   "metadata": {},
   "outputs": [
    {
     "name": "stdout",
     "output_type": "stream",
     "text": [
      "John\n",
      "John 25\n",
      "Name: John Age: 25\n",
      "John is 25 years old\n",
      "John is 25 years old\n"
     ]
    }
   ],
   "source": [
    "#outputs\n",
    "name='John'\n",
    "age=25\n",
    "\n",
    "print(name)\n",
    "print(name,age)\n",
    "print('Name: '+name+' Age: '+str(age))\n",
    "\n",
    "#formatting strings\n",
    "print('{} is {} years old'.format(name,age))\n",
    "\n",
    "#f-strings\n",
    "print(f'{name} is {age} years old')\n"
   ]
  },
  {
   "cell_type": "code",
   "execution_count": 40,
   "metadata": {},
   "outputs": [
    {
     "name": "stdout",
     "output_type": "stream",
     "text": [
      "Hello \n"
     ]
    }
   ],
   "source": [
    "#inputs\n",
    "name=input('Enter your name: ')\n",
    "print('Hello '+name)"
   ]
  },
  {
   "cell_type": "code",
   "execution_count": 57,
   "metadata": {},
   "outputs": [
    {
     "name": "stdout",
     "output_type": "stream",
     "text": [
      "hello world \t abcd\n",
      "hello\n",
      "world\n",
      "HELLO WORLD\n",
      "abcd\n",
      "Abcd efgh\n",
      "Eric was a great guy\n"
     ]
    }
   ],
   "source": [
    "#basic srring manipulation\n",
    "\n",
    "text='hello world \\t abcd'\n",
    "print(text)\n",
    "text='hello\\nworld'\n",
    "print(text)\n",
    "\n",
    "text='hello world'\n",
    "print(text.upper())\n",
    "print('ABCD'.lower())\n",
    "print('abcd efgh'.capitalize())\n",
    "\n",
    "sentence='John was a great guy'\n",
    "sentence=sentence.replace('John',\"Eric\")\n",
    "print(sentence)"
   ]
  },
  {
   "cell_type": "code",
   "execution_count": 50,
   "metadata": {},
   "outputs": [
    {
     "name": "stdout",
     "output_type": "stream",
     "text": [
      "2\n",
      "3\n"
     ]
    }
   ],
   "source": [
    "x=1\n",
    "\n",
    "# x=x+1\n",
    "x+=1\n",
    "print(x)\n",
    "\n",
    "j=5\n",
    "j-=2\n",
    "print(j)\n"
   ]
  }
 ],
 "metadata": {
  "kernelspec": {
   "display_name": "Python 3",
   "language": "python",
   "name": "python3"
  },
  "language_info": {
   "codemirror_mode": {
    "name": "ipython",
    "version": 3
   },
   "file_extension": ".py",
   "mimetype": "text/x-python",
   "name": "python",
   "nbconvert_exporter": "python",
   "pygments_lexer": "ipython3",
   "version": "3.10.2"
  }
 },
 "nbformat": 4,
 "nbformat_minor": 2
}
