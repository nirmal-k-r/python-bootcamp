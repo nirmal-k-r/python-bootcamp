{
 "cells": [
  {
   "cell_type": "code",
   "execution_count": 31,
   "metadata": {},
   "outputs": [
    {
     "name": "stdout",
     "output_type": "stream",
     "text": [
      "['Alice', 'Bob', 'Charlie', 'David', 'Edward']\n",
      "Edward\n",
      "['Alice', 'Bob', 'Charlie', 'David']\n"
     ]
    }
   ],
   "source": [
    "#stack\n",
    "\n",
    "names=[\"Alice\",\"Bob\",\"Charlie\"]\n",
    "names.append(\"David\")\n",
    "names.append(\"Edward\")\n",
    "print(names)\n",
    "removed=names.pop()\n",
    "print(removed)\n",
    "print(names)\n"
   ]
  },
  {
   "cell_type": "code",
   "execution_count": 32,
   "metadata": {},
   "outputs": [
    {
     "name": "stdout",
     "output_type": "stream",
     "text": [
      "deque(['Alice', 'Bob', 'Charlie'])\n",
      "deque(['Alice', 'Bob', 'Charlie', 'David'])\n",
      "deque(['Edward', 'Alice', 'Bob', 'Charlie', 'David'])\n",
      "David\n",
      "Edward\n",
      "deque(['Alice', 'Bob', 'Charlie'])\n"
     ]
    }
   ],
   "source": [
    "from collections import deque\n",
    "names=[\"Alice\",\"Bob\",\"Charlie\"]\n",
    "names=deque(names)\n",
    "print(names)\n",
    "\n",
    "names.append(\"David\")\n",
    "print(names)\n",
    "\n",
    "names.appendleft(\"Edward\")\n",
    "print(names)\n",
    "\n",
    "right=names.pop()\n",
    "print(right)\n",
    "\n",
    "left=names.popleft()\n",
    "print(left)\n",
    "\n",
    "print(names)"
   ]
  },
  {
   "cell_type": "code",
   "execution_count": 33,
   "metadata": {},
   "outputs": [
    {
     "name": "stdout",
     "output_type": "stream",
     "text": [
      "Charlie\n",
      "Bob\n",
      "Alice\n"
     ]
    }
   ],
   "source": [
    "class LinkedList:\n",
    "    def __init__(self,value):\n",
    "        self.root=Node(value)\n",
    "        self.last=self.root\n",
    "\n",
    "    def append(self,value):\n",
    "        new_node=Node(value,self.last)\n",
    "        self.last=new_node\n",
    "\n",
    "    def view(self):\n",
    "        current=self.last\n",
    "        while current:\n",
    "            print(current.value)\n",
    "            current=current.root\n",
    "\n",
    "\n",
    "class Node:\n",
    "    def __init__(self,value,root=None):\n",
    "        self.value=value\n",
    "        self.root=root\n",
    "\n",
    "\n",
    "my_list=LinkedList('Alice')\n",
    "my_list.append('Bob')\n",
    "my_list.append('Charlie')\n",
    "my_list.view()\n"
   ]
  },
  {
   "cell_type": "code",
   "execution_count": 34,
   "metadata": {},
   "outputs": [
    {
     "name": "stdout",
     "output_type": "stream",
     "text": [
      "Alice\n",
      "Bob\n",
      "Charlie\n",
      "---------------\n",
      "Charlie\n",
      "Bob\n",
      "Alice\n"
     ]
    }
   ],
   "source": [
    "class Node:\n",
    "    def __init__(self,value,previous=None,next=None):\n",
    "        self.value=value\n",
    "        self.previous=previous\n",
    "        self.next=next\n",
    "\n",
    "    \n",
    "\n",
    "\n",
    "class LinkedList:\n",
    "    def __init__(self,value):\n",
    "        self.root=Node(value)\n",
    "        self.last=self.root\n",
    "\n",
    "    def append(self,value):\n",
    "        new_node=Node(value,self.last)\n",
    "        self.last.next=new_node\n",
    "        self.last=new_node\n",
    "\n",
    "    #read in ascending order\n",
    "    def view(self):\n",
    "        current=self.root\n",
    "        while current!=None:\n",
    "            print(current.value)\n",
    "            current=current.next\n",
    "\n",
    "    #read in descending order\n",
    "    def view_reverse(self):\n",
    "        current=self.last\n",
    "        while current!=None:\n",
    "            print(current.value)\n",
    "            current=current.previous\n",
    "\n",
    "my_list=LinkedList('Alice')\n",
    "my_list.append('Bob')\n",
    "my_list.append('Charlie')\n",
    "my_list.view()\n",
    "print('---------------')\n",
    "my_list.view_reverse()\n",
    "\n",
    "    \n"
   ]
  },
  {
   "cell_type": "code",
   "execution_count": 35,
   "metadata": {},
   "outputs": [
    {
     "name": "stdout",
     "output_type": "stream",
     "text": [
      "Alice\n",
      "Bob\n",
      "Charlie\n",
      "David\n",
      "Edward\n",
      "---------------\n",
      "Alice\n",
      "Bob\n",
      "David\n",
      "Edward\n"
     ]
    }
   ],
   "source": [
    "class Node:\n",
    "    def __init__(self,value,previous=None,next=None):\n",
    "        self.value=value\n",
    "        self.previous=previous\n",
    "        self.next=next\n",
    "\n",
    "\n",
    "class LinkedList:\n",
    "    def __init__(self,value):\n",
    "        self.root=Node(value)\n",
    "        self.last=self.root\n",
    "\n",
    "    def append(self,value):\n",
    "        new_node=Node(value,self.last)\n",
    "        self.last.next=new_node\n",
    "        self.last=new_node\n",
    "\n",
    "    #read in ascending order\n",
    "    def view(self):\n",
    "        current=self.root\n",
    "        while current!=None:\n",
    "            print(current.value)\n",
    "            current=current.next\n",
    "\n",
    "    #read in descending order\n",
    "    def view_reverse(self):\n",
    "        current=self.last\n",
    "        while current!=None:\n",
    "            print(current.value)\n",
    "            current=current.previous\n",
    "\n",
    "    def add_after(self,search_value,new_data_value):\n",
    "        current=self.root\n",
    "        while current!=None and current.value!=search_value:\n",
    "            current=current.next\n",
    "       \n",
    "        if current!=None:\n",
    "            new_node=Node(new_data_value,current,current.next)\n",
    "            current.next.previous=new_node\n",
    "            current.next=new_node\n",
    "            \n",
    "        else:\n",
    "            print('Search value not found')\n",
    "\n",
    "    def remove(self,value):\n",
    "        current=self.root\n",
    "        while current!=None and current.value!=value:\n",
    "            current=current.next\n",
    "\n",
    "        if current!=None:\n",
    "            previous=current.previous\n",
    "            next=current.next\n",
    "            previous.next=next\n",
    "            next.previous=previous\n",
    "\n",
    "\n",
    "my_list=LinkedList('Alice')\n",
    "my_list.append('Bob')\n",
    "my_list.append('Charlie') #want to remove charlie\n",
    "my_list.append('David')\n",
    "my_list.append('Edward')\n",
    "my_list.view()\n",
    "\n",
    "print('---------------')\n",
    "my_list.remove('Charlie')\n",
    "my_list.view()\n",
    "\n",
    "\n",
    "    \n"
   ]
  },
  {
   "cell_type": "code",
   "execution_count": null,
   "metadata": {},
   "outputs": [],
   "source": [
    "person={ #0x1\n",
    "    'name':\"Alice\",\n",
    "    'age':20,\n",
    "    'nationality':'USA'\n",
    "}\n",
    "\n",
    "\n",
    "print(person['age'])"
   ]
  },
  {
   "cell_type": "code",
   "execution_count": 1,
   "metadata": {},
   "outputs": [
    {
     "data": {
      "text/plain": [
       "5804578626114572731"
      ]
     },
     "execution_count": 1,
     "metadata": {},
     "output_type": "execute_result"
    }
   ],
   "source": [
    "hash('name')"
   ]
  },
  {
   "cell_type": "code",
   "execution_count": 4,
   "metadata": {},
   "outputs": [
    {
     "data": {
      "text/plain": [
       "11"
      ]
     },
     "execution_count": 4,
     "metadata": {},
     "output_type": "execute_result"
    }
   ],
   "source": [
    "hash(11)"
   ]
  },
  {
   "cell_type": "code",
   "execution_count": null,
   "metadata": {},
   "outputs": [],
   "source": [
    "person={ #0x1\n",
    "    'name':\"Alice\",\n",
    "    'enam':100,\n",
    "    'age':20,\n",
    "    'nationality':'USA'\n",
    "}"
   ]
  }
 ],
 "metadata": {
  "kernelspec": {
   "display_name": "Python 3",
   "language": "python",
   "name": "python3"
  },
  "language_info": {
   "codemirror_mode": {
    "name": "ipython",
    "version": 3
   },
   "file_extension": ".py",
   "mimetype": "text/x-python",
   "name": "python",
   "nbconvert_exporter": "python",
   "pygments_lexer": "ipython3",
   "version": "3.10.2"
  }
 },
 "nbformat": 4,
 "nbformat_minor": 2
}
