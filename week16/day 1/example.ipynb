{
 "cells": [
  {
   "cell_type": "code",
   "execution_count": 2,
   "metadata": {},
   "outputs": [
    {
     "name": "stdout",
     "output_type": "stream",
     "text": [
      "Found\n"
     ]
    },
    {
     "data": {
      "text/plain": [
       "4"
      ]
     },
     "execution_count": 2,
     "metadata": {},
     "output_type": "execute_result"
    }
   ],
   "source": [
    "names=['Eric', 'Jenny', 'John', 'Pierre', 'tom']\n",
    "\n",
    "def search(keyword):\n",
    "    i=0\n",
    "    for name in names:\n",
    "        if name == keyword:\n",
    "            print('Found')\n",
    "            return i\n",
    "        i=i+1\n",
    "            \n",
    "position=search('tom')\n"
   ]
  },
  {
   "cell_type": "code",
   "execution_count": 8,
   "metadata": {},
   "outputs": [
    {
     "name": "stdout",
     "output_type": "stream",
     "text": [
      "2\n",
      "3\n",
      "4\n",
      "4\n"
     ]
    }
   ],
   "source": [
    "names=['Eric', 'Jenny', 'John', 'Pierre', 'tom']\n",
    "names=sorted(names)\n",
    "\n",
    "def search(names,keyword):\n",
    "    first=0\n",
    "    last=len(names)-1\n",
    "\n",
    "    while first<=last:\n",
    "        current=(first+last)//2\n",
    "        print(current)\n",
    "        if names[current]==keyword:\n",
    "            return current\n",
    "        elif names[current]<keyword:\n",
    "            first=current+1\n",
    "        else:\n",
    "            last=current-1\n",
    "            \n",
    "         \n",
    "print(search(names,'tom'))\n",
    "\n"
   ]
  },
  {
   "cell_type": "code",
   "execution_count": 9,
   "metadata": {},
   "outputs": [
    {
     "name": "stdout",
     "output_type": "stream",
     "text": [
      "['Eric', 'Jenny', 'John', 'Pierre', 'tom']\n",
      "['Eric', 'Jenny', 'John', 'Pierre']\n"
     ]
    }
   ],
   "source": [
    "names=['Eric', 'Jenny', 'John', 'Pierre', 'tom']\n",
    "print(names)\n",
    "\n",
    "names.pop()\n",
    "print(names)"
   ]
  },
  {
   "cell_type": "code",
   "execution_count": 1,
   "metadata": {},
   "outputs": [
    {
     "name": "stdout",
     "output_type": "stream",
     "text": [
      "tom\n",
      "Jack\n",
      "Jerry\n"
     ]
    }
   ],
   "source": [
    "class Queue:\n",
    "    def __init__(self):\n",
    "        self.items=[]\n",
    "\n",
    "    def push(self, data):\n",
    "        self.items.append(data)\n",
    "\n",
    "    def pop(self):\n",
    "        return self.items.pop(0)\n",
    "\n",
    "    def is_empty(self):\n",
    "        return self.items==[]\n",
    "\n",
    "    def peek(self):\n",
    "        return self.items[0] # Use peek to look at the top of the queue\n",
    "    \n",
    "\n",
    "queue=Queue()\n",
    "queue.push(\"tom\")\n",
    "queue.push(\"Jack\")\n",
    "queue.push(\"Jerry\")\n",
    "\n",
    "print(queue.peek())\n",
    "\n",
    "queue.pop()\n",
    "print(queue.peek())\n",
    "\n",
    "queue.pop()\n",
    "print(queue.peek())"
   ]
  },
  {
   "cell_type": "code",
   "execution_count": 30,
   "metadata": {},
   "outputs": [
    {
     "name": "stdout",
     "output_type": "stream",
     "text": [
      "Time <search>: 2.1457672119140625e-06\n"
     ]
    }
   ],
   "source": [
    "from time import time\n",
    "\n",
    "def timer(func):\n",
    "    def wrapper(*args, **kwargs):\n",
    "        start = time()\n",
    "        func(*args, **kwargs)\n",
    "        end = time()\n",
    "        print(f\"Time <{func.__name__}>: {end-start}\")\n",
    "\n",
    "    return wrapper\n",
    "\n",
    "@timer\n",
    "def search(names, keyword):\n",
    "    first=0\n",
    "    last=len(names)-1\n",
    "\n",
    "    while first<=last:\n",
    "        current=(first+last)//2\n",
    "        if names[current]==keyword:\n",
    "            return current\n",
    "        elif names[current]<keyword:\n",
    "            first=current+1\n",
    "        else:\n",
    "            last=current-1\n",
    "\n",
    "names=['Eric', 'Jenny', 'John', 'Pierre', 'tom']\n",
    "search(names,'tom')\n",
    "\n"
   ]
  },
  {
   "cell_type": "code",
   "execution_count": null,
   "metadata": {},
   "outputs": [],
   "source": [
    "#sequential search results\n",
    "Found\n",
    "Time <search>: 0.0007340908050537109\n",
    "\n",
    "#binary search results\n",
    "3.09e-06\n",
    "\n",
    "#binary search is much faster than sequential search"
   ]
  }
 ],
 "metadata": {
  "kernelspec": {
   "display_name": "Python 3",
   "language": "python",
   "name": "python3"
  },
  "language_info": {
   "codemirror_mode": {
    "name": "ipython",
    "version": 3
   },
   "file_extension": ".py",
   "mimetype": "text/x-python",
   "name": "python",
   "nbconvert_exporter": "python",
   "pygments_lexer": "ipython3",
   "version": "3.10.2"
  }
 },
 "nbformat": 4,
 "nbformat_minor": 2
}
