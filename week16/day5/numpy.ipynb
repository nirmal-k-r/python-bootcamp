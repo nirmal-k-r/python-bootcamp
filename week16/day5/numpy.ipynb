{
 "cells": [
  {
   "cell_type": "code",
   "execution_count": 7,
   "metadata": {},
   "outputs": [
    {
     "name": "stdout",
     "output_type": "stream",
     "text": [
      "[10.1  20.2  30.9  40.   50.76]\n"
     ]
    }
   ],
   "source": [
    "import numpy as np\n",
    "\n",
    "# marks=[10,20,30,40,50]\n",
    "\n",
    "#define a numpy array\n",
    "marks=np.array([10,20,30,40,50])\n",
    "\n",
    "print(marks)"
   ]
  },
  {
   "cell_type": "code",
   "execution_count": 8,
   "metadata": {},
   "outputs": [
    {
     "name": "stdout",
     "output_type": "stream",
     "text": [
      "1\n",
      "(5,)\n",
      "5\n",
      "float64\n"
     ]
    }
   ],
   "source": [
    "#dimension of the array\n",
    "print(marks.ndim)\n",
    "\n",
    "#shape of the array\n",
    "print(marks.shape)\n",
    "\n",
    "#size of the array\n",
    "print(marks.size)\n",
    "\n",
    "#data type of the array\n",
    "print(marks.dtype)"
   ]
  },
  {
   "cell_type": "code",
   "execution_count": 11,
   "metadata": {},
   "outputs": [
    {
     "name": "stdout",
     "output_type": "stream",
     "text": [
      "2\n",
      "(3, 3)\n",
      "9\n",
      "int64\n"
     ]
    }
   ],
   "source": [
    "data_2d=np.array([[50,20,10],[20,40,30],[10,20,10]])\n",
    "\n",
    "#dimension of the array\n",
    "print(data_2d.ndim)\n",
    "\n",
    "#shape of the array\n",
    "print(data_2d.shape)\n",
    "\n",
    "#size of the array\n",
    "print(data_2d.size)\n",
    "\n",
    "#data type of the array\n",
    "print(data_2d.dtype)"
   ]
  },
  {
   "cell_type": "code",
   "execution_count": 16,
   "metadata": {},
   "outputs": [
    {
     "ename": "NameError",
     "evalue": "name 'int64' is not defined",
     "output_type": "error",
     "traceback": [
      "\u001b[0;31m---------------------------------------------------------------------------\u001b[0m",
      "\u001b[0;31mNameError\u001b[0m                                 Traceback (most recent call last)",
      "Cell \u001b[0;32mIn[16], line 1\u001b[0m\n\u001b[0;32m----> 1\u001b[0m intialised_array\u001b[38;5;241m=\u001b[39mnp\u001b[38;5;241m.\u001b[39mzeros(\u001b[43mint64\u001b[49m(\u001b[38;5;241m5\u001b[39m,\u001b[38;5;241m5\u001b[39m))\n\u001b[1;32m      2\u001b[0m \u001b[38;5;28mprint\u001b[39m(intialised_array)\n",
      "\u001b[0;31mNameError\u001b[0m: name 'int64' is not defined"
     ]
    }
   ],
   "source": [
    "intialised_array=np.zeros((5,5))\n",
    "print(intialised_array)"
   ]
  },
  {
   "cell_type": "code",
   "execution_count": 21,
   "metadata": {},
   "outputs": [
    {
     "name": "stdout",
     "output_type": "stream",
     "text": [
      "[[1 1 1 1 1]\n",
      " [1 1 1 1 1]\n",
      " [1 1 1 1 1]\n",
      " [1 1 1 1 1]\n",
      " [1 1 1 1 1]]\n",
      "int16\n"
     ]
    }
   ],
   "source": [
    "intialised_array=np.ones((5,5)).astype('int16')\n",
    "print(intialised_array)\n",
    "\n",
    "print(intialised_array.dtype)"
   ]
  },
  {
   "cell_type": "code",
   "execution_count": 25,
   "metadata": {},
   "outputs": [
    {
     "name": "stdout",
     "output_type": "stream",
     "text": [
      "50\n",
      "40\n"
     ]
    }
   ],
   "source": [
    "#accessing np arrays\n",
    "marks=np.array([10,20,30,40,50])\n",
    "print(marks[4])\n",
    "\n",
    "data_2d=np.array([[50,20,10],[20,40,30],[10,20,10]])\n",
    "print(data_2d[1,1])\n"
   ]
  },
  {
   "cell_type": "code",
   "execution_count": 40,
   "metadata": {},
   "outputs": [
    {
     "name": "stdout",
     "output_type": "stream",
     "text": [
      "[[50 20 10]\n",
      " [20 40 30]\n",
      " [10 20 10]]\n",
      "[[40 30]\n",
      " [20 10]]\n",
      "[[50 20]\n",
      " [20 40]]\n",
      "[[50 20 10]\n",
      " [20 40 30]]\n"
     ]
    }
   ],
   "source": [
    "data_2d=np.array([[50,20,10],[20,40,30],[10,20,10]])\n",
    "print(data_2d)\n",
    "\n",
    "#to slice the np array and acces only 40,30,20,20 as 2*2 array\n",
    "sliced_array=data_2d[1:,1:]\n",
    "print(sliced_array)\n",
    "\n",
    "sliced_2=data_2d[:2,:2]\n",
    "print(sliced_2)\n",
    "\n",
    "slice_3=data_2d[:2,]\n",
    "print(slice_3)"
   ]
  },
  {
   "cell_type": "code",
   "execution_count": 54,
   "metadata": {},
   "outputs": [
    {
     "name": "stdout",
     "output_type": "stream",
     "text": [
      "[50 40 30 20 10]\n",
      "[[10 20 50]\n",
      " [30 40 20]]\n"
     ]
    }
   ],
   "source": [
    "marks=np.array([10,20,30,40,50])\n",
    "\n",
    "reversed=marks[::-1]\n",
    "print(reversed)\n",
    "\n",
    "\n",
    "#reverse sliced_3\n",
    "reversed_2=slice_3[::,::-1]\n",
    "print(reversed_2)"
   ]
  },
  {
   "cell_type": "code",
   "execution_count": 64,
   "metadata": {},
   "outputs": [
    {
     "name": "stdout",
     "output_type": "stream",
     "text": [
      "[0 1 2 3 4 5 6 7 8 9]\n",
      "[10 11 12 13 14 15 16 17 18 19]\n",
      "[ 2  4  6  8 10]\n"
     ]
    }
   ],
   "source": [
    "ids=np.arange(10)\n",
    "print(ids)\n",
    "\n",
    "ids=np.arange(10,20)\n",
    "print(ids)\n",
    "\n",
    "#even numbers bet 0 and 10\n",
    "ids=np.arange(2,11,2)\n",
    "print(ids)\n"
   ]
  },
  {
   "cell_type": "code",
   "execution_count": 117,
   "metadata": {},
   "outputs": [
    {
     "name": "stdout",
     "output_type": "stream",
     "text": [
      "[ 0.  5. 10. 15. 20. 25. 30. 35. 40.]\n",
      "[  0.  10.  20.  30.  40.  50.  60.  70.  80.  90. 100.]\n"
     ]
    }
   ],
   "source": [
    "loto=np.linspace(0,40,9)\n",
    "print(loto)\n",
    "\n",
    "print(np.linspace(0,100,11))"
   ]
  },
  {
   "cell_type": "code",
   "execution_count": 115,
   "metadata": {},
   "outputs": [
    {
     "name": "stdout",
     "output_type": "stream",
     "text": [
      "[0.91036071 0.31085649 0.78875432 0.09963918 0.39537788]\n",
      "[12 26 15 34  6 37]\n"
     ]
    }
   ],
   "source": [
    "random=np.random.rand(5)\n",
    "print(random)\n",
    "\n",
    "print(np.random.randint(1,40,6))"
   ]
  },
  {
   "cell_type": "code",
   "execution_count": 124,
   "metadata": {},
   "outputs": [
    {
     "name": "stdout",
     "output_type": "stream",
     "text": [
      "[[100  40  20]\n",
      " [ 40  80  60]\n",
      " [ 20  40  20]]\n",
      "[[40 10  0]\n",
      " [10 30 20]\n",
      " [ 0 10  0]]\n"
     ]
    }
   ],
   "source": [
    "marks=np.array([[50,20,10],[20,40,30],[10,20,10]])\n",
    "print(marks*2)\n",
    "print(marks-10)\n"
   ]
  },
  {
   "cell_type": "code",
   "execution_count": 133,
   "metadata": {},
   "outputs": [
    {
     "name": "stdout",
     "output_type": "stream",
     "text": [
      "[[0. 0. 0.]\n",
      " [0. 0. 0.]]\n",
      "[[0. 0.]\n",
      " [0. 0.]\n",
      " [0. 0.]]\n"
     ]
    }
   ],
   "source": [
    "x=np.zeros((2,3))\n",
    "print(x)\n",
    "\n",
    "flipped=np.reshape(x,(3,2))\n",
    "print(flipped)"
   ]
  },
  {
   "cell_type": "code",
   "execution_count": 145,
   "metadata": {},
   "outputs": [
    {
     "name": "stdout",
     "output_type": "stream",
     "text": [
      "[[50 20 10]\n",
      " [20 40 30]\n",
      " [10 20 10]]\n",
      "[50 20 10]\n",
      "[[50 20 10]\n",
      " [20 40 30]]\n",
      "[20 40 20]\n"
     ]
    }
   ],
   "source": [
    "marks=np.array([[50,20,10],[20,40,30],[10,20,10]])\n",
    "print(marks)\n",
    "print(marks[0])\n",
    "print(marks[:2])\n",
    "\n",
    "print(marks[:,1])"
   ]
  },
  {
   "cell_type": "code",
   "execution_count": 146,
   "metadata": {},
   "outputs": [
    {
     "name": "stdout",
     "output_type": "stream",
     "text": [
      "23.333333333333332\n"
     ]
    }
   ],
   "source": [
    "marks=np.array([[50,20,10],[20,40,30],[10,20,10]])\n",
    "\n",
    "print(marks.mean())"
   ]
  },
  {
   "cell_type": "code",
   "execution_count": 159,
   "metadata": {},
   "outputs": [
    {
     "name": "stdout",
     "output_type": "stream",
     "text": [
      "[[50 20 10]\n",
      " [20 40 30]\n",
      " [10 20 10]]\n",
      "[[2 1 0]\n",
      " [0 2 1]\n",
      " [0 2 1]]\n",
      "[[50 20 10]\n",
      " [10 20 10]\n",
      " [20 40 30]]\n"
     ]
    }
   ],
   "source": [
    "marks=np.array([[50,20,10],[20,40,30],[10,20,10]])\n",
    "print(marks)\n",
    "\n",
    "\n",
    "print(np.argsort(marks)) #order matrix\n",
    "\n",
    "# print(marks[marks[:,1].argsort()])"
   ]
  },
  {
   "cell_type": "code",
   "execution_count": 163,
   "metadata": {},
   "outputs": [
    {
     "name": "stdout",
     "output_type": "stream",
     "text": [
      "[[50 20 10]\n",
      " [20 40 30]\n",
      " [10 20 10]]\n",
      "[[20 40 30]\n",
      " [50 20 10]\n",
      " [10 20 10]]\n"
     ]
    }
   ],
   "source": [
    "marks=np.array([[50,20,10],[20,40,30],[10,20,10]])\n",
    "print(marks)\n",
    "#swap row 0 and 1\n",
    "marks[[0,1]]=marks[[1,0]]\n",
    "print(marks)"
   ]
  },
  {
   "cell_type": "code",
   "execution_count": 174,
   "metadata": {},
   "outputs": [
    {
     "name": "stdout",
     "output_type": "stream",
     "text": [
      "31.666666666666668\n",
      "5.0\n",
      "26.474306202219704\n",
      "81\n",
      "1\n",
      "[[ 1.  4.  9.]\n",
      " [16. 25. 36.]\n",
      " [49. 64. 81.]]\n"
     ]
    }
   ],
   "source": [
    "data=np.array([[1,4,9],[16,25,36],[49,64,81]])\n",
    "print(data.mean())\n",
    "\n",
    "sqrt=np.sqrt(data)\n",
    "print(sqrt.mean())\n",
    "\n",
    "\n",
    "print(np.std(data))\n",
    "print(data.max()) \n",
    "print(data.min())\n",
    "\n",
    "\n",
    "print(sqrt**2)"
   ]
  },
  {
   "cell_type": "code",
   "execution_count": 176,
   "metadata": {},
   "outputs": [
    {
     "name": "stdout",
     "output_type": "stream",
     "text": [
      "Help on _ArrayFunctionDispatcher in module numpy:\n",
      "\n",
      "min(a, axis=None, out=None, keepdims=<no value>, initial=<no value>, where=<no value>)\n",
      "    Return the minimum of an array or minimum along an axis.\n",
      "    \n",
      "    Parameters\n",
      "    ----------\n",
      "    a : array_like\n",
      "        Input data.\n",
      "    axis : None or int or tuple of ints, optional\n",
      "        Axis or axes along which to operate.  By default, flattened input is\n",
      "        used.\n",
      "    \n",
      "        .. versionadded:: 1.7.0\n",
      "    \n",
      "        If this is a tuple of ints, the minimum is selected over multiple axes,\n",
      "        instead of a single axis or all the axes as before.\n",
      "    out : ndarray, optional\n",
      "        Alternative output array in which to place the result.  Must\n",
      "        be of the same shape and buffer length as the expected output.\n",
      "        See :ref:`ufuncs-output-type` for more details.\n",
      "    \n",
      "    keepdims : bool, optional\n",
      "        If this is set to True, the axes which are reduced are left\n",
      "        in the result as dimensions with size one. With this option,\n",
      "        the result will broadcast correctly against the input array.\n",
      "    \n",
      "        If the default value is passed, then `keepdims` will not be\n",
      "        passed through to the ``min`` method of sub-classes of\n",
      "        `ndarray`, however any non-default value will be.  If the\n",
      "        sub-class' method does not implement `keepdims` any\n",
      "        exceptions will be raised.\n",
      "    \n",
      "    initial : scalar, optional\n",
      "        The maximum value of an output element. Must be present to allow\n",
      "        computation on empty slice. See `~numpy.ufunc.reduce` for details.\n",
      "    \n",
      "        .. versionadded:: 1.15.0\n",
      "    \n",
      "    where : array_like of bool, optional\n",
      "        Elements to compare for the minimum. See `~numpy.ufunc.reduce`\n",
      "        for details.\n",
      "    \n",
      "        .. versionadded:: 1.17.0\n",
      "    \n",
      "    Returns\n",
      "    -------\n",
      "    min : ndarray or scalar\n",
      "        Minimum of `a`. If `axis` is None, the result is a scalar value.\n",
      "        If `axis` is an int, the result is an array of dimension\n",
      "        ``a.ndim - 1``.  If `axis` is a tuple, the result is an array of \n",
      "        dimension ``a.ndim - len(axis)``.\n",
      "    \n",
      "    See Also\n",
      "    --------\n",
      "    amax :\n",
      "        The maximum value of an array along a given axis, propagating any NaNs.\n",
      "    nanmin :\n",
      "        The minimum value of an array along a given axis, ignoring any NaNs.\n",
      "    minimum :\n",
      "        Element-wise minimum of two arrays, propagating any NaNs.\n",
      "    fmin :\n",
      "        Element-wise minimum of two arrays, ignoring any NaNs.\n",
      "    argmin :\n",
      "        Return the indices of the minimum values.\n",
      "    \n",
      "    nanmax, maximum, fmax\n",
      "    \n",
      "    Notes\n",
      "    -----\n",
      "    NaN values are propagated, that is if at least one item is NaN, the\n",
      "    corresponding min value will be NaN as well. To ignore NaN values\n",
      "    (MATLAB behavior), please use nanmin.\n",
      "    \n",
      "    Don't use `~numpy.min` for element-wise comparison of 2 arrays; when\n",
      "    ``a.shape[0]`` is 2, ``minimum(a[0], a[1])`` is faster than\n",
      "    ``min(a, axis=0)``.\n",
      "    \n",
      "    Examples\n",
      "    --------\n",
      "    >>> a = np.arange(4).reshape((2,2))\n",
      "    >>> a\n",
      "    array([[0, 1],\n",
      "           [2, 3]])\n",
      "    >>> np.min(a)           # Minimum of the flattened array\n",
      "    0\n",
      "    >>> np.min(a, axis=0)   # Minima along the first axis\n",
      "    array([0, 1])\n",
      "    >>> np.min(a, axis=1)   # Minima along the second axis\n",
      "    array([0, 2])\n",
      "    >>> np.min(a, where=[False, True], initial=10, axis=0)\n",
      "    array([10,  1])\n",
      "    \n",
      "    >>> b = np.arange(5, dtype=float)\n",
      "    >>> b[2] = np.NaN\n",
      "    >>> np.min(b)\n",
      "    nan\n",
      "    >>> np.min(b, where=~np.isnan(b), initial=10)\n",
      "    0.0\n",
      "    >>> np.nanmin(b)\n",
      "    0.0\n",
      "    \n",
      "    >>> np.min([[-50], [10]], axis=-1, initial=0)\n",
      "    array([-50,   0])\n",
      "    \n",
      "    Notice that the initial value is used as one of the elements for which the\n",
      "    minimum is determined, unlike for the default argument Python's max\n",
      "    function, which is only used for empty iterables.\n",
      "    \n",
      "    Notice that this isn't the same as Python's ``default`` argument.\n",
      "    \n",
      "    >>> np.min([6], initial=5)\n",
      "    5\n",
      "    >>> min([6], default=5)\n",
      "    6\n",
      "\n"
     ]
    }
   ],
   "source": [
    "help(np.min)"
   ]
  },
  {
   "cell_type": "code",
   "execution_count": 177,
   "metadata": {},
   "outputs": [
    {
     "name": "stdout",
     "output_type": "stream",
     "text": [
      "Help on built-in function print in module builtins:\n",
      "\n",
      "print(...)\n",
      "    print(value, ..., sep=' ', end='\\n', file=sys.stdout, flush=False)\n",
      "    \n",
      "    Prints the values to a stream, or to sys.stdout by default.\n",
      "    Optional keyword arguments:\n",
      "    file:  a file-like object (stream); defaults to the current sys.stdout.\n",
      "    sep:   string inserted between values, default a space.\n",
      "    end:   string appended after the last value, default a newline.\n",
      "    flush: whether to forcibly flush the stream.\n",
      "\n"
     ]
    }
   ],
   "source": [
    "help(print)"
   ]
  },
  {
   "cell_type": "code",
   "execution_count": 178,
   "metadata": {},
   "outputs": [
    {
     "name": "stdout",
     "output_type": "stream",
     "text": [
      "(array([1, 3, 4, 5, 6]),)\n"
     ]
    }
   ],
   "source": [
    "my_array=[0,1,0,2,3,4,5]\n",
    "print(np.nonzero(my_array))"
   ]
  },
  {
   "cell_type": "code",
   "execution_count": 180,
   "metadata": {},
   "outputs": [
    {
     "name": "stdout",
     "output_type": "stream",
     "text": [
      "[2 1 1 1 1 1]\n"
     ]
    }
   ],
   "source": [
    "# help(np.bincount)\n",
    "my_array=[0,1,0,2,3,4,5]\n",
    "print(np.bincount(my_array))"
   ]
  }
 ],
 "metadata": {
  "kernelspec": {
   "display_name": "Python 3",
   "language": "python",
   "name": "python3"
  },
  "language_info": {
   "codemirror_mode": {
    "name": "ipython",
    "version": 3
   },
   "file_extension": ".py",
   "mimetype": "text/x-python",
   "name": "python",
   "nbconvert_exporter": "python",
   "pygments_lexer": "ipython3",
   "version": "3.10.2"
  }
 },
 "nbformat": 4,
 "nbformat_minor": 2
}
