{
 "cells": [
  {
   "cell_type": "code",
   "execution_count": 3,
   "metadata": {},
   "outputs": [
    {
     "name": "stdout",
     "output_type": "stream",
     "text": [
      "Balance: 10000\n",
      "Balance: 100000000000000\n"
     ]
    }
   ],
   "source": [
    "class BankAccount:\n",
    "    def __init__(self, balance=0):\n",
    "        self.balance = balance #balance is a public property\n",
    "\n",
    "    def deposit(self, amount):\n",
    "        self.balance += amount\n",
    "\n",
    "    def info(self):\n",
    "        print(\"Balance: \"+str(self.balance))\n",
    "\n",
    "\n",
    "account1=BankAccount()\n",
    "account1.deposit(10000)\n",
    "account1.info()\n",
    "\n",
    "account1.balance=100000000000000\n",
    "\n",
    "account1.info()\n"
   ]
  },
  {
   "cell_type": "code",
   "execution_count": 18,
   "metadata": {},
   "outputs": [
    {
     "name": "stdout",
     "output_type": "stream",
     "text": [
      "Balance: 10000\n",
      "Balance: 10000\n"
     ]
    }
   ],
   "source": [
    "class BankAccount:\n",
    "    def __init__(self, balance=0):\n",
    "        self.__balance = balance # __balance is private property\n",
    "\n",
    "    def deposit(self, amount):\n",
    "        self.__balance += amount #proivate properties can ONLY be modified from within the class\n",
    "\n",
    "    def info(self):\n",
    "        print(\"Balance: \"+str(self.__balance))\n",
    "\n",
    "\n",
    "#main\n",
    "account1=BankAccount()\n",
    "account1.deposit(10000)\n",
    "account1.info()\n",
    "\n",
    "# print(account1.__balance) # this will not work as private property is not accessible directly\n",
    "account1.__balance=100000000000000 # this will not change the balance as private property is not accessible directly\n",
    "\n",
    "account1.info()"
   ]
  },
  {
   "cell_type": "code",
   "execution_count": 21,
   "metadata": {},
   "outputs": [
    {
     "ename": "AttributeError",
     "evalue": "'Dog' object has no attribute '_Dog__name'",
     "output_type": "error",
     "traceback": [
      "\u001b[0;31m---------------------------------------------------------------------------\u001b[0m",
      "\u001b[0;31mAttributeError\u001b[0m                            Traceback (most recent call last)",
      "Cell \u001b[0;32mIn[21], line 16\u001b[0m\n\u001b[1;32m     14\u001b[0m \u001b[38;5;66;03m#main program\u001b[39;00m\n\u001b[1;32m     15\u001b[0m dog1\u001b[38;5;241m=\u001b[39mDog(\u001b[38;5;124m\"\u001b[39m\u001b[38;5;124mTommy\u001b[39m\u001b[38;5;124m\"\u001b[39m,\u001b[38;5;124m\"\u001b[39m\u001b[38;5;124mBulldog\u001b[39m\u001b[38;5;124m\"\u001b[39m)\n\u001b[0;32m---> 16\u001b[0m \u001b[43mdog1\u001b[49m\u001b[38;5;241;43m.\u001b[39;49m\u001b[43minfo\u001b[49m\u001b[43m(\u001b[49m\u001b[43m)\u001b[49m\n",
      "Cell \u001b[0;32mIn[21], line 12\u001b[0m, in \u001b[0;36mDog.info\u001b[0;34m(self)\u001b[0m\n\u001b[1;32m     11\u001b[0m \u001b[38;5;28;01mdef\u001b[39;00m \u001b[38;5;21minfo\u001b[39m(\u001b[38;5;28mself\u001b[39m):\n\u001b[0;32m---> 12\u001b[0m    \u001b[38;5;28mprint\u001b[39m(\u001b[38;5;28;43mself\u001b[39;49m\u001b[38;5;241;43m.\u001b[39;49m\u001b[43m__name\u001b[49m)\n",
      "\u001b[0;31mAttributeError\u001b[0m: 'Dog' object has no attribute '_Dog__name'"
     ]
    }
   ],
   "source": [
    "class Animal:\n",
    "    def __init__(self, name):\n",
    "        self._name = name # _name is protected property\n",
    "\n",
    "\n",
    "class Dog(Animal):\n",
    "    def __init__(self, name, breed):\n",
    "        Animal.__init__(self,name)\n",
    "        self.breed = breed\n",
    "\n",
    "    def info(self):\n",
    "       print(self._name) # protected properties can be accessed from derived class\n",
    "\n",
    "#main program\n",
    "dog1=Dog(\"Tommy\",\"Bulldog\")\n",
    "dog1.info()\n",
    "\n",
    "\n"
   ]
  }
 ],
 "metadata": {
  "kernelspec": {
   "display_name": "Python 3",
   "language": "python",
   "name": "python3"
  },
  "language_info": {
   "codemirror_mode": {
    "name": "ipython",
    "version": 3
   },
   "file_extension": ".py",
   "mimetype": "text/x-python",
   "name": "python",
   "nbconvert_exporter": "python",
   "pygments_lexer": "ipython3",
   "version": "3.10.2"
  }
 },
 "nbformat": 4,
 "nbformat_minor": 2
}
