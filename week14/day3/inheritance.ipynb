{
 "cells": [
  {
   "cell_type": "code",
   "execution_count": 2,
   "metadata": {},
   "outputs": [
    {
     "name": "stdout",
     "output_type": "stream",
     "text": [
      "Name: Tom\n",
      "NIC: 123456789V\n",
      "Age: 25\n"
     ]
    }
   ],
   "source": [
    "class Person:\n",
    "    def __init__(self,name,nic,age):\n",
    "        self.name=name\n",
    "        self.nic=nic\n",
    "        self.age=age\n",
    "\n",
    "    def info(self):\n",
    "        print(f\"Name: {self.name}\\nNIC: {self.nic}\\nAge: {self.age}\")\n",
    "\n",
    "tom=Person(\"Tom\",\"123456789V\",25)\n",
    "\n",
    "tom.info()\n"
   ]
  },
  {
   "cell_type": "code",
   "execution_count": 4,
   "metadata": {},
   "outputs": [
    {
     "name": "stdout",
     "output_type": "stream",
     "text": [
      "Name: Jerry\n",
      "NIC: 123456789V\n",
      "Age: 25\n",
      "Student ID: ST001\n",
      "Name: Tommy\n",
      "NIC: 123456789V\n",
      "Age: 25\n",
      "Position: Head Prefect\n"
     ]
    },
    {
     "ename": "AttributeError",
     "evalue": "'Prefect' object has no attribute 'mro'",
     "output_type": "error",
     "traceback": [
      "\u001b[0;31m---------------------------------------------------------------------------\u001b[0m",
      "\u001b[0;31mAttributeError\u001b[0m                            Traceback (most recent call last)",
      "Cell \u001b[0;32mIn[4], line 37\u001b[0m\n\u001b[1;32m     33\u001b[0m tommy\u001b[38;5;241m=\u001b[39mPrefect(\u001b[38;5;124m\"\u001b[39m\u001b[38;5;124mTommy\u001b[39m\u001b[38;5;124m\"\u001b[39m,\u001b[38;5;124m\"\u001b[39m\u001b[38;5;124m123456789V\u001b[39m\u001b[38;5;124m\"\u001b[39m,\u001b[38;5;241m25\u001b[39m,\u001b[38;5;124m\"\u001b[39m\u001b[38;5;124mST001\u001b[39m\u001b[38;5;124m\"\u001b[39m,[\u001b[38;5;124m\"\u001b[39m\u001b[38;5;124mPython\u001b[39m\u001b[38;5;124m\"\u001b[39m,\u001b[38;5;124m\"\u001b[39m\u001b[38;5;124mJava\u001b[39m\u001b[38;5;124m\"\u001b[39m,\u001b[38;5;124m\"\u001b[39m\u001b[38;5;124mC++\u001b[39m\u001b[38;5;124m\"\u001b[39m],\u001b[38;5;124m\"\u001b[39m\u001b[38;5;124mHead Prefect\u001b[39m\u001b[38;5;124m\"\u001b[39m)\n\u001b[1;32m     34\u001b[0m tommy\u001b[38;5;241m.\u001b[39minfo()\n\u001b[0;32m---> 37\u001b[0m \u001b[43mtommy\u001b[49m\u001b[38;5;241;43m.\u001b[39;49m\u001b[43mmro\u001b[49m() \u001b[38;5;66;03m#Method Resolution Order\u001b[39;00m\n",
      "\u001b[0;31mAttributeError\u001b[0m: 'Prefect' object has no attribute 'mro'"
     ]
    }
   ],
   "source": [
    "class Person: #Base class /super class/parent class\n",
    "    def __init__(self,name,nic,age):\n",
    "        self.name=name\n",
    "        self.nic=nic\n",
    "        self.age=age\n",
    "\n",
    "    def info(self):\n",
    "        print(f\"Name: {self.name}\\nNIC: {self.nic}\\nAge: {self.age}\")\n",
    "\n",
    "class Student(Person): #child/derived class\n",
    "    def __init__(self,name,nic,age,student_id,courses):\n",
    "        Person.__init__(self,name,nic,age)\n",
    "        self.student_id=student_id\n",
    "        self.courses=courses\n",
    "    \n",
    "    def info(self):\n",
    "        print(f\"Name: {self.name}\\nNIC: {self.nic}\\nAge: {self.age}\")\n",
    "        print(f\"Student ID: {self.student_id}\")\n",
    "    \n",
    "\n",
    "class Prefect(Student):\n",
    "    def __init__(self,name,nic,age,student_id,courses,position):\n",
    "        Student.__init__(self,name,nic,age,student_id,courses)\n",
    "        self.position=position\n",
    "\n",
    "    def info(self):\n",
    "        print(f\"Name: {self.name}\\nNIC: {self.nic}\\nAge: {self.age}\")\n",
    "        print(f\"Position: {self.position}\")\n",
    "\n",
    "jerry=Student(\"Jerry\",\"123456789V\",25,\"ST001\",[\"Python\",\"Java\",\"C++\"])\n",
    "jerry.info()\n",
    "\n",
    "tommy=Prefect(\"Tommy\",\"123456789V\",25,\"ST001\",[\"Python\",\"Java\",\"C++\"],\"Head Prefect\")\n",
    "tommy.info()\n",
    "\n",
    "\n",
    "# tommy.mro() #Method Resolution Order\n",
    "    "
   ]
  },
  {
   "cell_type": "code",
   "execution_count": 4,
   "metadata": {},
   "outputs": [
    {
     "name": "stdout",
     "output_type": "stream",
     "text": [
      "woof woof\n"
     ]
    }
   ],
   "source": [
    "class Animal:\n",
    "    def __init__(self, name):\n",
    "        self.name = name\n",
    "\n",
    "    def greet(self):\n",
    "        print(\"woof woof\")\n",
    "\n",
    "class Dog(Animal):\n",
    "    \n",
    "    def bark(self):\n",
    "        print(\"{} barked, WAF !\".format(self.name))\n",
    "\n",
    "toto=Dog(\"Toto\")\n",
    "toto.greet()\n"
   ]
  },
  {
   "cell_type": "code",
   "execution_count": 6,
   "metadata": {},
   "outputs": [
    {
     "name": "stdout",
     "output_type": "stream",
     "text": [
      "woof woof\n"
     ]
    }
   ],
   "source": [
    "class Animal:\n",
    "    def __init__(self, name):\n",
    "        self.name = name\n",
    "\n",
    "    def greet(self):\n",
    "        print(\"woof woof\")\n",
    "\n",
    "class Dog(Animal):\n",
    "    def __init__(self,name,breed):\n",
    "        Animal.__init__(self,name)\n",
    "        self.breed=breed\n",
    "\n",
    "    def bark(self):\n",
    "        print(\"{} barked, WAF !\".format(self.name))\n",
    "\n",
    "toto=Dog(\"Toto\",'german shepard')\n",
    "toto.greet()\n"
   ]
  },
  {
   "cell_type": "code",
   "execution_count": 7,
   "metadata": {},
   "outputs": [
    {
     "name": "stdout",
     "output_type": "stream",
     "text": [
      "blue\n"
     ]
    }
   ],
   "source": [
    "class Circle:\n",
    "    color = \"red\"\n",
    "\n",
    "class NewCircle(Circle):\n",
    "    color = \"blue\"\n",
    "\n",
    "nc = NewCircle\n",
    "print(nc.color)"
   ]
  },
  {
   "cell_type": "code",
   "execution_count": 12,
   "metadata": {},
   "outputs": [
    {
     "name": "stdout",
     "output_type": "stream",
     "text": [
      "maiou miou\n",
      "maiou miou\n",
      "woof woof\n"
     ]
    }
   ],
   "source": [
    "class Animal:\n",
    "    def __init__(self, name):\n",
    "        self.name = name\n",
    "\n",
    "    def bark(self):\n",
    "        print(\"maiou miou\")\n",
    "       \n",
    "\n",
    "class Dog(Animal):\n",
    "    def __init__(self,name,breed):\n",
    "        Animal.__init__(self,name)\n",
    "        self.breed=breed\n",
    "\n",
    "    def bark(self):\n",
    "        Animal.bark(self) #calling the parent class method\n",
    "        print(\"woof woof\") #adding new functionality\n",
    "    \n",
    "animal=Animal(\"Toto\")\n",
    "animal.bark()\n",
    "\n",
    "\n",
    "toto=Dog(\"Toto\",'german shepard')\n",
    "toto.bark()\n"
   ]
  },
  {
   "cell_type": "code",
   "execution_count": 18,
   "metadata": {},
   "outputs": [
    {
     "name": "stdout",
     "output_type": "stream",
     "text": [
      "The door is open\n",
      "The door is closed\n"
     ]
    },
    {
     "ename": "Exception",
     "evalue": "The door is blocked",
     "output_type": "error",
     "traceback": [
      "\u001b[0;31m---------------------------------------------------------------------------\u001b[0m",
      "\u001b[0;31mException\u001b[0m                                 Traceback (most recent call last)",
      "Cell \u001b[0;32mIn[18], line 31\u001b[0m\n\u001b[1;32m     28\u001b[0m door\u001b[38;5;241m.\u001b[39mclose()\n\u001b[1;32m     30\u001b[0m blocked_door\u001b[38;5;241m=\u001b[39mBlockedDoor(\u001b[38;5;28;01mFalse\u001b[39;00m)\n\u001b[0;32m---> 31\u001b[0m \u001b[43mblocked_door\u001b[49m\u001b[38;5;241;43m.\u001b[39;49m\u001b[43mopen\u001b[49m\u001b[43m(\u001b[49m\u001b[43m)\u001b[49m\n",
      "Cell \u001b[0;32mIn[18], line 20\u001b[0m, in \u001b[0;36mBlockedDoor.open\u001b[0;34m(self)\u001b[0m\n\u001b[1;32m     18\u001b[0m \u001b[38;5;28;01mdef\u001b[39;00m \u001b[38;5;21mopen\u001b[39m(\u001b[38;5;28mself\u001b[39m):\n\u001b[1;32m     19\u001b[0m     \u001b[38;5;28mself\u001b[39m\u001b[38;5;241m.\u001b[39mis_opened \u001b[38;5;241m=\u001b[39m \u001b[38;5;28;01mFalse\u001b[39;00m\n\u001b[0;32m---> 20\u001b[0m     \u001b[38;5;28;01mraise\u001b[39;00m \u001b[38;5;167;01mException\u001b[39;00m(\u001b[38;5;124m\"\u001b[39m\u001b[38;5;124mThe door is blocked\u001b[39m\u001b[38;5;124m\"\u001b[39m)\n",
      "\u001b[0;31mException\u001b[0m: The door is blocked"
     ]
    }
   ],
   "source": [
    "class Door:\n",
    "    def __init__(self, status):\n",
    "        self.is_opened=status\n",
    "\n",
    "    def open(self):\n",
    "        self.is_opened = True\n",
    "        print(\"The door is open\")\n",
    "\n",
    "    def close(self):\n",
    "        self.is_opened = False\n",
    "        print(\"The door is closed\")\n",
    "\n",
    "        \n",
    "\n",
    "class BlockedDoor(Door):\n",
    "    def __init__(self, status):\n",
    "        self.is_opened=False\n",
    "\n",
    "    def open(self):\n",
    "        self.is_opened = False\n",
    "        raise Exception(\"The door is blocked\")\n",
    "\n",
    "    def close(self):\n",
    "        self.is_opened = False\n",
    "        raise Exception(\"The door is blocked\")\n",
    "    \n",
    "door=Door(False)\n",
    "door.open()\n",
    "door.close()\n",
    "\n",
    "blocked_door=BlockedDoor(False)\n",
    "blocked_door.open()"
   ]
  },
  {
   "cell_type": "code",
   "execution_count": 2,
   "metadata": {},
   "outputs": [
    {
     "name": "stdout",
     "output_type": "stream",
     "text": [
      "Toto\n",
      "woof woof\n",
      "Mimi\n",
      "maiou miou\n",
      "Pepe\n",
      "woof woof\n",
      "<class '__main__.Dog'>\n"
     ]
    }
   ],
   "source": [
    "class Dog:\n",
    "    def __init__(self, name):\n",
    "        self.name = name\n",
    "\n",
    "    def bark(self):\n",
    "        print(\"woof woof\")\n",
    "\n",
    "class Cat:\n",
    "    def __init__(self, name):\n",
    "        self.name = name\n",
    "  \n",
    "    def bark(self):\n",
    "        print(\"maiou miou\")\n",
    "\n",
    "\n",
    "toto=Dog(\"Toto\")\n",
    "mimi=Cat(\"Mimi\")\n",
    "pepe=Dog(\"Pepe\")\n",
    "\n",
    "\n",
    "def process_animals(animal): #interface\n",
    "    print(animal.name)\n",
    "    animal.bark()\n",
    "\n",
    "animals=[toto,mimi,pepe]\n",
    "\n",
    "for animal in animals:\n",
    "    process_animals(animal)\n",
    "\n",
    "print(type(toto))\n"
   ]
  },
  {
   "cell_type": "code",
   "execution_count": null,
   "metadata": {},
   "outputs": [],
   "source": []
  }
 ],
 "metadata": {
  "kernelspec": {
   "display_name": "Python 3",
   "language": "python",
   "name": "python3"
  },
  "language_info": {
   "codemirror_mode": {
    "name": "ipython",
    "version": 3
   },
   "file_extension": ".py",
   "mimetype": "text/x-python",
   "name": "python",
   "nbconvert_exporter": "python",
   "pygments_lexer": "ipython3",
   "version": "3.10.2"
  }
 },
 "nbformat": 4,
 "nbformat_minor": 2
}
