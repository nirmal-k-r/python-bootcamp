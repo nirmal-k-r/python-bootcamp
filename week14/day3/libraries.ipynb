{
 "cells": [
  {
   "cell_type": "code",
   "execution_count": 2,
   "metadata": {},
   "outputs": [
    {
     "name": "stdout",
     "output_type": "stream",
     "text": [
      "25.0\n",
      "5\n"
     ]
    }
   ],
   "source": [
    "import math\n",
    "\n",
    "a=5\n",
    "b=2\n",
    "\n",
    "print(math.pow(a,b))\n",
    "\n",
    "print(int('5'))"
   ]
  },
  {
   "cell_type": "code",
   "execution_count": 5,
   "metadata": {},
   "outputs": [
    {
     "name": "stdout",
     "output_type": "stream",
     "text": [
      "25.0\n",
      "2.23606797749979\n"
     ]
    }
   ],
   "source": [
    "from math import pow, sqrt\n",
    "\n",
    "x=5\n",
    "y=2\n",
    "\n",
    "print(pow(x,y))\n",
    "print(sqrt(x))"
   ]
  },
  {
   "cell_type": "code",
   "execution_count": 6,
   "metadata": {},
   "outputs": [
    {
     "name": "stdout",
     "output_type": "stream",
     "text": [
      "2.0\n"
     ]
    }
   ],
   "source": [
    "import math as m #alias\n",
    "\n",
    "d=4\n",
    "print(m.sqrt(d))"
   ]
  }
 ],
 "metadata": {
  "kernelspec": {
   "display_name": "Python 3",
   "language": "python",
   "name": "python3"
  },
  "language_info": {
   "codemirror_mode": {
    "name": "ipython",
    "version": 3
   },
   "file_extension": ".py",
   "mimetype": "text/x-python",
   "name": "python",
   "nbconvert_exporter": "python",
   "pygments_lexer": "ipython3",
   "version": "3.10.2"
  }
 },
 "nbformat": 4,
 "nbformat_minor": 2
}
