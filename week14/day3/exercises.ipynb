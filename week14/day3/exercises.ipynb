{
 "cells": [
  {
   "cell_type": "code",
   "execution_count": 16,
   "metadata": {},
   "outputs": [
    {
     "name": "stdout",
     "output_type": "stream",
     "text": [
      "Bengal is just walking around\n",
      "Chartreux is just walking around\n",
      "Siamese is just walking around\n"
     ]
    }
   ],
   "source": [
    "class Pets():\n",
    "    def __init__(self, animals):\n",
    "        self.animals = animals\n",
    "\n",
    "    def walk(self):\n",
    "        for animal in self.animals:\n",
    "            print(animal.walk())\n",
    "\n",
    "class Cat():\n",
    "    is_lazy = True\n",
    "\n",
    "    def __init__(self, name, age):\n",
    "        self.name = name\n",
    "        self.age = age\n",
    "\n",
    "    def walk(self):\n",
    "        return f'{self.name} is just walking around'\n",
    "\n",
    "class Bengal(Cat):\n",
    "    def sing(self, sounds):\n",
    "        return f'{sounds}'\n",
    "\n",
    "class Chartreux(Cat):\n",
    "    def sing(self, sounds):\n",
    "        return f'{sounds}'\n",
    "\n",
    "class Siamese(Cat):\n",
    "    def sing(self, sounds):\n",
    "        return f'{sounds}'\n",
    "\n",
    "cats=[Bengal('Bengal', 3), Chartreux('Chartreux', 2), Siamese('Siamese', 1)]\n",
    "\n",
    "sara_pets=Pets(cats)\n",
    "sara_pets.walk()\n"
   ]
  },
  {
   "cell_type": "code",
   "execution_count": 17,
   "metadata": {},
   "outputs": [
    {
     "name": "stdout",
     "output_type": "stream",
     "text": [
      "rocco is barking\n",
      "33.333333333333336\n",
      "lucky won the fight\n",
      "lucky is barking\n",
      "37.5\n",
      "lucky won the fight\n",
      "buddy is barking\n",
      "40.0\n",
      "rocco won the fight\n"
     ]
    }
   ],
   "source": [
    "class Dog:\n",
    "    def __init__(self, name, age, weight):\n",
    "        self.name = name\n",
    "        self.age = age\n",
    "        self.weight = weight\n",
    "\n",
    "    def bark(self):\n",
    "        return f'{self.name} is barking'\n",
    "    \n",
    "    def run_speed(self):\n",
    "        return (self.weight/self.age*10)\n",
    "    \n",
    "    def fight(self, other_dog):\n",
    "        if (self.run_speed() * self.weight) == (other_dog.run_speed() * other_dog.weight):\n",
    "            return \"It's a draw\"\n",
    "        elif (self.run_speed() * self.weight) > (other_dog.run_speed() * other_dog.weight):\n",
    "            return f'{self.name} won the fight'\n",
    "        else:\n",
    "            return f'{other_dog.name} won the fight'\n",
    "        \n",
    "dog1 = Dog('rocco', 3, 10)\n",
    "dog2 = Dog('lucky', 4, 15)\n",
    "dog3 = Dog('buddy', 2, 8)\n",
    "\n",
    "print(dog1.bark())\n",
    "print(dog1.run_speed())\n",
    "print(dog1.fight(dog2))\n",
    "\n",
    "print(dog2.bark())\n",
    "print(dog2.run_speed())\n",
    "print(dog2.fight(dog3))\n",
    "\n",
    "print(dog3.bark())\n",
    "print(dog3.run_speed())\n",
    "print(dog3.fight(dog1))\n",
    "\n"
   ]
  },
  {
   "cell_type": "code",
   "execution_count": 26,
   "metadata": {},
   "outputs": [
    {
     "name": "stdout",
     "output_type": "stream",
     "text": [
      "rocco ,lucky ,buddy all play together\n",
      "tommy is not trained yet\n",
      "tommy does a does a barel roll\n"
     ]
    }
   ],
   "source": [
    "import random\n",
    "class PetDog(Dog):\n",
    "    def __init__(self, name, age, weight):\n",
    "        Dog.__init__(self,name, age, weight)\n",
    "        self.trained = False\n",
    "\n",
    "    def train(self):\n",
    "        self.trained = True\n",
    "        Dog.bark(self)\n",
    "\n",
    "    def play(self, *dogs):\n",
    "       print( \" ,\".join(dog.name for dog in dogs)+\" all play together\")\n",
    "\n",
    "    def do_a_trick(self):\n",
    "        if self.trained:\n",
    "           trick=random.choice(['does a barel roll','stands on his back legs','shakes your hand','plays dead'])\n",
    "           print(f'{self.name} does a {trick}')\n",
    "        else:\n",
    "            print(f'{self.name} is not trained yet')\n",
    "\n",
    "\n",
    "tommy = PetDog('tommy', 3, 10)\n",
    "tommy.play(dog1, dog2, dog3)\n",
    "tommy.do_a_trick()\n",
    "tommy.train()\n",
    "tommy.do_a_trick()"
   ]
  }
 ],
 "metadata": {
  "kernelspec": {
   "display_name": "Python 3",
   "language": "python",
   "name": "python3"
  },
  "language_info": {
   "codemirror_mode": {
    "name": "ipython",
    "version": 3
   },
   "file_extension": ".py",
   "mimetype": "text/x-python",
   "name": "python",
   "nbconvert_exporter": "python",
   "pygments_lexer": "ipython3",
   "version": "3.10.2"
  }
 },
 "nbformat": 4,
 "nbformat_minor": 2
}
