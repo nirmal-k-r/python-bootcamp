{
 "cells": [
  {
   "cell_type": "code",
   "execution_count": 13,
   "metadata": {},
   "outputs": [
    {
     "name": "stdout",
     "output_type": "stream",
     "text": [
      "Bengal is just walking around\n",
      "Chartreux is just walking around\n",
      "Siamese is just walking around\n"
     ]
    }
   ],
   "source": [
    "class Pets():\n",
    "    def __init__(self, animals):\n",
    "        self.animals = animals\n",
    "\n",
    "    def walk(self):\n",
    "        for animal in self.animals:\n",
    "            print(animal.walk())\n",
    "\n",
    "class Cat():\n",
    "    is_lazy = True\n",
    "\n",
    "    def __init__(self, name, age):\n",
    "        self.name = name\n",
    "        self.age = age\n",
    "\n",
    "    def walk(self):\n",
    "        return f'{self.name} is just walking around'\n",
    "\n",
    "class Bengal(Cat):\n",
    "    def sing(self, sounds):\n",
    "        return f'{sounds}'\n",
    "\n",
    "class Chartreux(Cat):\n",
    "    def sing(self, sounds):\n",
    "        return f'{sounds}'\n",
    "\n",
    "class Siamese(Cat):\n",
    "    def sing(self, sounds):\n",
    "        return f'{sounds}'\n",
    "\n",
    "cats=[Bengal('Bengal', 3), Chartreux('Chartreux', 2), Siamese('Siamese', 1)]\n",
    "\n",
    "sara_pets=Pets(cats)\n",
    "sara_pets.walk()\n"
   ]
  },
  {
   "cell_type": "code",
   "execution_count": 14,
   "metadata": {},
   "outputs": [
    {
     "name": "stdout",
     "output_type": "stream",
     "text": [
      "rocco is barking\n",
      "33.333333333333336\n",
      "lucky won the fight\n",
      "lucky is barking\n",
      "37.5\n",
      "lucky won the fight\n",
      "buddy is barking\n",
      "40.0\n",
      "rocco won the fight\n"
     ]
    }
   ],
   "source": [
    "class Dog:\n",
    "    def __init__(self, name, age, weight):\n",
    "        self.name = name\n",
    "        self.age = age\n",
    "        self.weight = weight\n",
    "\n",
    "    def bark(self):\n",
    "        return f'{self.name} is barking'\n",
    "    \n",
    "    def run_speed(self):\n",
    "        return (self.weight/self.age*10)\n",
    "    \n",
    "    def fight(self, other_dog):\n",
    "        if (self.run_speed() * self.weight) == (other_dog.run_speed() * other_dog.weight):\n",
    "            return \"It's a draw\"\n",
    "        elif (self.run_speed() * self.weight) > (other_dog.run_speed() * other_dog.weight):\n",
    "            return f'{self.name} won the fight'\n",
    "        else:\n",
    "            return f'{other_dog.name} won the fight'\n",
    "        \n",
    "dog1 = Dog('rocco', 3, 10)\n",
    "dog2 = Dog('lucky', 4, 15)\n",
    "dog3 = Dog('buddy', 2, 8)\n",
    "\n",
    "print(dog1.bark())\n",
    "print(dog1.run_speed())\n",
    "print(dog1.fight(dog2))\n",
    "\n",
    "print(dog2.bark())\n",
    "print(dog2.run_speed())\n",
    "print(dog2.fight(dog3))\n",
    "\n",
    "print(dog3.bark())\n",
    "print(dog3.run_speed())\n",
    "print(dog3.fight(dog1))\n",
    "\n"
   ]
  },
  {
   "cell_type": "code",
   "execution_count": 15,
   "metadata": {},
   "outputs": [
    {
     "name": "stdout",
     "output_type": "stream",
     "text": [
      "rocco ,lucky ,buddy all play together\n",
      "tommy is not trained yet\n"
     ]
    },
    {
     "ename": "TypeError",
     "evalue": "'method' object is not subscriptable",
     "output_type": "error",
     "traceback": [
      "\u001b[0;31m---------------------------------------------------------------------------\u001b[0m",
      "\u001b[0;31mTypeError\u001b[0m                                 Traceback (most recent call last)",
      "Cell \u001b[0;32mIn[15], line 26\u001b[0m\n\u001b[1;32m     24\u001b[0m tommy\u001b[38;5;241m.\u001b[39mdo_a_trick()\n\u001b[1;32m     25\u001b[0m tommy\u001b[38;5;241m.\u001b[39mtrain()\n\u001b[0;32m---> 26\u001b[0m \u001b[43mtommy\u001b[49m\u001b[38;5;241;43m.\u001b[39;49m\u001b[43mdo_a_trick\u001b[49m\u001b[43m(\u001b[49m\u001b[43m)\u001b[49m\n",
      "Cell \u001b[0;32mIn[15], line 16\u001b[0m, in \u001b[0;36mPetDog.do_a_trick\u001b[0;34m(self)\u001b[0m\n\u001b[1;32m     14\u001b[0m \u001b[38;5;28;01mdef\u001b[39;00m \u001b[38;5;21mdo_a_trick\u001b[39m(\u001b[38;5;28mself\u001b[39m):\n\u001b[1;32m     15\u001b[0m     \u001b[38;5;28;01mif\u001b[39;00m \u001b[38;5;28mself\u001b[39m\u001b[38;5;241m.\u001b[39mtrained:\n\u001b[0;32m---> 16\u001b[0m        trick\u001b[38;5;241m=\u001b[39m\u001b[43mrandom\u001b[49m\u001b[38;5;241;43m.\u001b[39;49m\u001b[43mchoice\u001b[49m\u001b[43m[\u001b[49m\u001b[38;5;124;43m'\u001b[39;49m\u001b[38;5;124;43mdoes a barel roll\u001b[39;49m\u001b[38;5;124;43m'\u001b[39;49m\u001b[43m,\u001b[49m\u001b[38;5;124;43m'\u001b[39;49m\u001b[38;5;124;43mstands on his back legs\u001b[39;49m\u001b[38;5;124;43m'\u001b[39;49m\u001b[43m,\u001b[49m\u001b[38;5;124;43m'\u001b[39;49m\u001b[38;5;124;43mshakes your hand\u001b[39;49m\u001b[38;5;124;43m'\u001b[39;49m\u001b[43m,\u001b[49m\u001b[38;5;124;43m'\u001b[39;49m\u001b[38;5;124;43mplays dead\u001b[39;49m\u001b[38;5;124;43m'\u001b[39;49m\u001b[43m]\u001b[49m\n\u001b[1;32m     17\u001b[0m        \u001b[38;5;28mprint\u001b[39m(\u001b[38;5;124mf\u001b[39m\u001b[38;5;124m'\u001b[39m\u001b[38;5;132;01m{\u001b[39;00m\u001b[38;5;28mself\u001b[39m\u001b[38;5;241m.\u001b[39mname\u001b[38;5;132;01m}\u001b[39;00m\u001b[38;5;124m does a \u001b[39m\u001b[38;5;132;01m{\u001b[39;00mtrick\u001b[38;5;132;01m}\u001b[39;00m\u001b[38;5;124m'\u001b[39m)\n\u001b[1;32m     18\u001b[0m     \u001b[38;5;28;01melse\u001b[39;00m:\n",
      "\u001b[0;31mTypeError\u001b[0m: 'method' object is not subscriptable"
     ]
    }
   ],
   "source": [
    "import random\n",
    "class PetDog(Dog):\n",
    "    def __init__(self, name, age, weight):\n",
    "        Dog.__init__(self,name, age, weight)\n",
    "        self.trained = False\n",
    "\n",
    "    def train(self):\n",
    "        self.trained = True\n",
    "        Dog.bark(self)\n",
    "\n",
    "    def play(self, *dogs):\n",
    "       print( \" ,\".join(dog.name for dog in dogs)+\" all play together\")\n",
    "\n",
    "    def do_a_trick(self):\n",
    "        if self.trained:\n",
    "           trick=random.choice(['does a barel roll','stands on his back legs','shakes your hand','plays dead'])\n",
    "           print(f'{self.name} does a {trick}')\n",
    "        else:\n",
    "            print(f'{self.name} is not trained yet')\n",
    "\n",
    "\n",
    "tommy = PetDog('tommy', 3, 10)\n",
    "tommy.play(dog1, dog2, dog3)\n",
    "tommy.do_a_trick()\n",
    "tommy.train()\n",
    "tommy.do_a_trick()"
   ]
  }
 ],
 "metadata": {
  "kernelspec": {
   "display_name": "Python 3",
   "language": "python",
   "name": "python3"
  },
  "language_info": {
   "codemirror_mode": {
    "name": "ipython",
    "version": 3
   },
   "file_extension": ".py",
   "mimetype": "text/x-python",
   "name": "python",
   "nbconvert_exporter": "python",
   "pygments_lexer": "ipython3",
   "version": "3.10.2"
  }
 },
 "nbformat": 4,
 "nbformat_minor": 2
}
