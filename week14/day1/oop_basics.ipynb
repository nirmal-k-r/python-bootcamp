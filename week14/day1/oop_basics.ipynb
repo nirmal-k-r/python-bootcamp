{
 "cells": [
  {
   "cell_type": "code",
   "execution_count": 26,
   "metadata": {},
   "outputs": [],
   "source": [
    "#defining a class\n",
    "class Car:\n",
    "    def __init__(self,color,make,model):  #constructor\n",
    "        #3 properties instantiated below\n",
    "        self.color=color  #self is a reference to the object and self.color is a property of the object\n",
    "        self.make=make \n",
    "        self.model=model\n",
    "    \n",
    "    #functions defining the behaviour of the object\n",
    "    def details(self):\n",
    "        print(f\"Color: {self.color} Make: {self.make} Model: {self.model}\")"
   ]
  },
  {
   "cell_type": "code",
   "execution_count": 27,
   "metadata": {},
   "outputs": [
    {
     "name": "stdout",
     "output_type": "stream",
     "text": [
      "Red\n",
      "Ford\n",
      "Mustang\n",
      "Color: Red Make: Ford Model: Mustang\n"
     ]
    }
   ],
   "source": [
    "#create an object\n",
    "myCar= Car('Red','Ford','Mustang')\n",
    "\n",
    "#accessing the properties of the object\n",
    "print(myCar.color)\n",
    "print(myCar.make)\n",
    "print(myCar.model)\n",
    "\n",
    "#accessing the behaviour of the object\n",
    "myCar.details()"
   ]
  },
  {
   "cell_type": "code",
   "execution_count": 28,
   "metadata": {},
   "outputs": [
    {
     "name": "stdout",
     "output_type": "stream",
     "text": [
      "Color: Yellow Make: Chevrolet Model: Camaro\n",
      "Color: Blue Make: Toyota Model: Corolla\n",
      "Color: Black Make: Honda Model: Civic\n"
     ]
    }
   ],
   "source": [
    "car1=Car('Yellow','Chevrolet','Camaro')\n",
    "car2=Car('Blue','Toyota','Corolla')\n",
    "car3=Car('Black','Honda','Civic')\n",
    "\n",
    "car1.details()\n",
    "car2.details()\n",
    "car3.details()"
   ]
  },
  {
   "cell_type": "code",
   "execution_count": 29,
   "metadata": {},
   "outputs": [],
   "source": [
    "class Dog:\n",
    "    pass\n",
    "\n",
    "dog1=Dog()"
   ]
  },
  {
   "cell_type": "code",
   "execution_count": 30,
   "metadata": {},
   "outputs": [
    {
     "name": "stdout",
     "output_type": "stream",
     "text": [
      "Persian\n",
      "White\n",
      "3\n"
     ]
    }
   ],
   "source": [
    "class Cat: #class definition\n",
    "    def __init__(self): #constructor\n",
    "        self.breed='Persian' #property\n",
    "        self.color='White'\n",
    "\n",
    "cat1=Cat()\n",
    "print(cat1.breed)\n",
    "print(cat1.color)\n",
    "\n",
    "cat1.age=3 #adding a property to the object\n",
    "print(cat1.age)"
   ]
  },
  {
   "cell_type": "code",
   "execution_count": 31,
   "metadata": {},
   "outputs": [
    {
     "name": "stdout",
     "output_type": "stream",
     "text": [
      "Buddy\n"
     ]
    }
   ],
   "source": [
    "class Dog:\n",
    "    def __init__(self,name,age): #constructor with 2 properties\n",
    "        self.name=name\n",
    "        self.age=age\n",
    "\n",
    "myDog=Dog('Buddy',3)\n",
    "\n",
    "print(myDog.name)"
   ]
  },
  {
   "cell_type": "code",
   "execution_count": 32,
   "metadata": {},
   "outputs": [
    {
     "name": "stdout",
     "output_type": "stream",
     "text": [
      "Woof! Woof!\n"
     ]
    }
   ],
   "source": [
    "class Dog:\n",
    "    def __init__(self,name,age): #constructor with 2 properties\n",
    "        self.name=name\n",
    "        self.age=age\n",
    "\n",
    "    def bark(self):\n",
    "        print('Woof! Woof!')\n",
    "\n",
    "zoro=Dog('Zoro',2) #to use the functions of a class, you need to create an object\n",
    "#Zoro object has been created using class dog\n",
    "zoro.bark() #calling the function bark of the object zoro"
   ]
  },
  {
   "cell_type": "code",
   "execution_count": 33,
   "metadata": {},
   "outputs": [
    {
     "name": "stdout",
     "output_type": "stream",
     "text": [
      "Car has driven 100 kilometers\n",
      "10.0\n",
      "Fuel on board: 20.0 litres\n",
      "Car KA-01-1234 has crashed with car KA-01-1235\n"
     ]
    }
   ],
   "source": [
    "class Car:\n",
    "    def __init__(self,regNo,make,model,colour,fuel):\n",
    "        self.regNo=regNo\n",
    "        self.make=make\n",
    "        self.model=model\n",
    "        self.colour=colour\n",
    "        self.fuel=fuel\n",
    "        self.mileage=0\n",
    "\n",
    "    def drive(self,numKilometers):\n",
    "        self.mileage+=numKilometers\n",
    "        self.fuel=self.fuel-(numKilometers/10)\n",
    "        print(f\"Car has driven {numKilometers} kilometers\")\n",
    "\n",
    "    def refuel(self,litres):\n",
    "        self.fuel=self.fuel+litres\n",
    "        print(f\"Fuel on board: {self.fuel} litres\")\n",
    "\n",
    "    def crash(self,car2):\n",
    "        print(f'Car {self.regNo} has crashed with car {car2.regNo}')\n",
    "\n",
    "\n",
    "myCar=Car('KA-01-1234','Ford','Mustang','Red',20)\n",
    "myCar.drive(100)\n",
    "# print(myCar.mileage)\n",
    "print(myCar.fuel)\n",
    "myCar.refuel(10)\n",
    "\n",
    "myCar2=Car('KA-01-1235','Chevrolet','Camaro','Yellow',30)\n",
    "myCar.crash(myCar2)"
   ]
  },
  {
   "cell_type": "code",
   "execution_count": 34,
   "metadata": {},
   "outputs": [
    {
     "name": "stdout",
     "output_type": "stream",
     "text": [
      "[90, 80, 70]\n",
      "80.0\n"
     ]
    }
   ],
   "source": [
    "class Student:\n",
    "    def __init__(self,sid,name,course):\n",
    "        self.sid=sid\n",
    "        self.name=name\n",
    "        self.course=course\n",
    "        self.marks=[]\n",
    "    \n",
    "    def enterMarks(self,marks):\n",
    "        self.marks.append(marks)\n",
    "\n",
    "    def avegareMarks(self):\n",
    "        return sum(self.marks)/len(self.marks)\n",
    "\n",
    "paul=Student(1,'Paul','Python')\n",
    "paul.enterMarks(90)\n",
    "paul.enterMarks(80)\n",
    "paul.enterMarks(70)\n",
    "print(paul.marks)\n",
    "\n",
    "avg=paul.avegareMarks()\n",
    "print(avg)\n",
    "    \n"
   ]
  },
  {
   "cell_type": "code",
   "execution_count": 35,
   "metadata": {},
   "outputs": [
    {
     "ename": "TypeError",
     "evalue": "Farm.__init__() takes 0 positional arguments but 2 were given",
     "output_type": "error",
     "traceback": [
      "\u001b[0;31m---------------------------------------------------------------------------\u001b[0m",
      "\u001b[0;31mTypeError\u001b[0m                                 Traceback (most recent call last)",
      "Cell \u001b[0;32mIn[35], line 11\u001b[0m\n\u001b[1;32m      8\u001b[0m     \u001b[38;5;28;01mdef\u001b[39;00m \u001b[38;5;21mget_info\u001b[39m():\n\u001b[1;32m      9\u001b[0m         \u001b[38;5;28;01mpass\u001b[39;00m\n\u001b[0;32m---> 11\u001b[0m macdonald \u001b[38;5;241m=\u001b[39m \u001b[43mFarm\u001b[49m\u001b[43m(\u001b[49m\u001b[38;5;124;43m\"\u001b[39;49m\u001b[38;5;124;43mMcDonald\u001b[39;49m\u001b[38;5;124;43m\"\u001b[39;49m\u001b[43m)\u001b[49m\n\u001b[1;32m     12\u001b[0m macdonald\u001b[38;5;241m.\u001b[39madd_animal(\u001b[38;5;124m'\u001b[39m\u001b[38;5;124mcow\u001b[39m\u001b[38;5;124m'\u001b[39m,\u001b[38;5;241m5\u001b[39m)\n\u001b[1;32m     13\u001b[0m macdonald\u001b[38;5;241m.\u001b[39madd_animal(\u001b[38;5;124m'\u001b[39m\u001b[38;5;124msheep\u001b[39m\u001b[38;5;124m'\u001b[39m)\n",
      "\u001b[0;31mTypeError\u001b[0m: Farm.__init__() takes 0 positional arguments but 2 were given"
     ]
    }
   ],
   "source": [
    "class Farm:\n",
    "    def __init__():\n",
    "        pass\n",
    "\n",
    "    def add_animal():\n",
    "        pass\n",
    "\n",
    "    def get_info():\n",
    "        pass\n",
    "\n",
    "macdonald = Farm(\"McDonald\")\n",
    "macdonald.add_animal('cow',5)\n",
    "macdonald.add_animal('sheep')\n",
    "macdonald.add_animal('sheep')\n",
    "macdonald.add_animal('goat', 12)\n",
    "print(macdonald.get_info())\n",
    "\n",
    "#first identify properties and add them to constructor\n",
    "#wrote behaviour code for the functions\n",
    "#test\n"
   ]
  },
  {
   "cell_type": "code",
   "execution_count": 40,
   "metadata": {},
   "outputs": [
    {
     "name": "stdout",
     "output_type": "stream",
     "text": [
      "McDonald's farm \n",
      "\n",
      "cow : 5 \n",
      "sheep : 2 \n",
      "goat : 12 \n",
      "\n",
      "\tE-I-E-I-0!\n",
      "['cow', 'goat', 'sheep']\n",
      "McDonald farm has cows, goats, sheep\n"
     ]
    }
   ],
   "source": [
    "class Farm:\n",
    "    def __init__(self, name):\n",
    "        self.name=name #property of the object\n",
    "        self.animals={} #dictionary to store the animals and their quantities\n",
    "\n",
    "\n",
    "    def add_animal(self, animal, qty):\n",
    "        if animal in self.animals:\n",
    "            self.animals[animal]+=qty\n",
    "        else:\n",
    "            self.animals[animal]=qty\n",
    "\n",
    "    def get_info(self):\n",
    "        info=f\"{self.name}'s farm \\n\\n\"\n",
    "        for animal in self.animals:\n",
    "            info+=f\"{animal} : {self.animals[animal]} \\n\"\n",
    "        info+=\"\\n\\tE-I-E-I-0!\"\n",
    "        return info\n",
    "    \n",
    "    def get_animal_types(self):\n",
    "        return (sorted(list(self.animals.keys())))\n",
    "    \n",
    "    def get_short_info(self):\n",
    "        animal_types=\"s, \".join(self.get_animal_types())\n",
    "        return f\"{self.name} farm has {animal_types}\"\n",
    "\n",
    "macdonald = Farm(\"McDonald\")\n",
    "# print(macdonald.name)\n",
    "macdonald.add_animal('cow',5)\n",
    "macdonald.add_animal('sheep',1)\n",
    "macdonald.add_animal('sheep',1)\n",
    "macdonald.add_animal('goat', 12)\n",
    "print(macdonald.get_info())\n",
    "\n",
    "print(macdonald.get_animal_types())\n",
    "print(macdonald.get_short_info())\n",
    "\n",
    "# print(macdonald.animals)"
   ]
  },
  {
   "cell_type": "code",
   "execution_count": 38,
   "metadata": {},
   "outputs": [
    {
     "name": "stdout",
     "output_type": "stream",
     "text": [
      "myXnameXisXJohn\n"
     ]
    }
   ],
   "source": [
    "# items=['my','name','is','John']\n",
    "\n",
    "# print('X'.join(items))\n",
    "\n",
    "# # my name is John\n"
   ]
  },
  {
   "cell_type": "code",
   "execution_count": 41,
   "metadata": {},
   "outputs": [
    {
     "name": "stdout",
     "output_type": "stream",
     "text": [
      "Snappy\n"
     ]
    }
   ],
   "source": [
    "class Cat:\n",
    "    def __init__(self, cat_name, cat_age):\n",
    "        self.name = cat_name\n",
    "        self.age = cat_age\n",
    "\n",
    "cat1=Cat('Tom', 3)\n",
    "cat2=Cat('Snappy', 8)\n",
    "cat3=Cat('Kitty', 10)\n",
    "\n",
    "cats=[cat1,cat2,cat3]\n",
    "\n",
    "oldest_cat=cats[0]\n",
    "for cat in cats:\n",
    "    if cat.age>oldest_cat.age:\n",
    "        oldest_cat=cat\n",
    "\n",
    "print(oldest_cat.name)\n",
    "        \n"
   ]
  }
 ],
 "metadata": {
  "kernelspec": {
   "display_name": "Python 3",
   "language": "python",
   "name": "python3"
  },
  "language_info": {
   "codemirror_mode": {
    "name": "ipython",
    "version": 3
   },
   "file_extension": ".py",
   "mimetype": "text/x-python",
   "name": "python",
   "nbconvert_exporter": "python",
   "pygments_lexer": "ipython3",
   "version": "3.10.2"
  }
 },
 "nbformat": 4,
 "nbformat_minor": 2
}
